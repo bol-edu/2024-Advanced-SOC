{
 "cells": [
  {
   "cell_type": "code",
   "execution_count": 1,
   "metadata": {},
   "outputs": [
    {
     "data": {
      "application/javascript": [
       "\n",
       "try {\n",
       "require(['notebook/js/codecell'], function(codecell) {\n",
       "  codecell.CodeCell.options_default.highlight_modes[\n",
       "      'magic_text/x-csrc'] = {'reg':[/^%%microblaze/]};\n",
       "  Jupyter.notebook.events.one('kernel_ready.Kernel', function(){\n",
       "      Jupyter.notebook.get_cells().map(function(cell){\n",
       "          if (cell.cell_type == 'code'){ cell.auto_highlight(); } }) ;\n",
       "  });\n",
       "});\n",
       "} catch (e) {};\n"
      ]
     },
     "metadata": {},
     "output_type": "display_data"
    },
    {
     "data": {
      "application/javascript": [
       "\n",
       "try {\n",
       "require(['notebook/js/codecell'], function(codecell) {\n",
       "  codecell.CodeCell.options_default.highlight_modes[\n",
       "      'magic_text/x-csrc'] = {'reg':[/^%%pybind11/]};\n",
       "  Jupyter.notebook.events.one('kernel_ready.Kernel', function(){\n",
       "      Jupyter.notebook.get_cells().map(function(cell){\n",
       "          if (cell.cell_type == 'code'){ cell.auto_highlight(); } }) ;\n",
       "  });\n",
       "});\n",
       "} catch (e) {};\n"
      ]
     },
     "metadata": {},
     "output_type": "display_data"
    },
    {
     "name": "stdout",
     "output_type": "stream",
     "text": [
      "Entry: /usr/local/share/pynq-venv/lib/python3.8/site-packages/ipykernel_launcher.py\n",
      "System argument(s): 3\n",
      "Start of \"/usr/local/share/pynq-venv/lib/python3.8/site-packages/ipykernel_launcher.py\"\n",
      "=====================================\n",
      "1 test\n",
      "key generatation execution time: 0.019216537475585938 sec\n",
      "signuture execution time: 0.7708735466003418 sec\n",
      "verify excution time: 0.060475826263427734 sec\n",
      "Verification Result: True\n",
      "=====================================\n",
      "2 test\n",
      "key generatation execution time: 0.018812179565429688 sec\n",
      "signuture execution time: 0.7343225479125977 sec\n",
      "verify excution time: 0.06155681610107422 sec\n",
      "Verification Result: True\n",
      "=====================================\n",
      "3 test\n",
      "key generatation execution time: 0.01878499984741211 sec\n",
      "signuture execution time: 0.7360477447509766 sec\n",
      "verify excution time: 0.06033134460449219 sec\n",
      "Verification Result: True\n",
      "=====================================\n",
      "4 test\n",
      "key generatation execution time: 0.018769264221191406 sec\n",
      "signuture execution time: 0.7467901706695557 sec\n",
      "verify excution time: 0.060755252838134766 sec\n",
      "Verification Result: True\n",
      "=====================================\n",
      "5 test\n",
      "key generatation execution time: 0.018880605697631836 sec\n",
      "signuture execution time: 0.7496905326843262 sec\n",
      "verify excution time: 0.06035971641540527 sec\n",
      "Verification Result: True\n",
      "=====================================\n",
      "average key generation time:  0.018892717361450196\n",
      "average signature time:  0.7475449085235596\n",
      "average verify time:  0.06069579124450684\n",
      "=====================================\n",
      "Exit process\n"
     ]
    }
   ],
   "source": [
    "\n",
    "# coding: utf-8\n",
    "\n",
    "# In[ ]:\n",
    "\n",
    "import falcon\n",
    "import sys, os\n",
    "from time import time\n",
    "\n",
    "sys.path.append('/home/xilinx')\n",
    "os.environ['XILINX_XRT'] = '/usr'\n",
    "\n",
    "kgsum = 0\n",
    "sigsum = 0\n",
    "versum = 0\n",
    "if __name__ == \"__main__\":\n",
    "    print(\"Entry:\", sys.argv[0])\n",
    "    print(\"System argument(s):\", len(sys.argv))\n",
    "    print(\"Start of \\\"\" + sys.argv[0] + \"\\\"\")\n",
    "\n",
    "    for i in range(5):\n",
    "        print(\"=====================================\")\n",
    "        print(i+1, \"test\")\n",
    "    # Generate Key\n",
    "        kgstr = time()\n",
    "        key = falcon.KeyGen(1024, i)\n",
    "        kgend = time()\n",
    "        print(f\"key generatation execution time: {kgend - kgstr} sec\")\n",
    "        kgsum += kgend - kgstr\n",
    "        \n",
    "    # Signature\n",
    "        sigstr = time()\n",
    "        sig = falcon.Sign(b\"Hello\", key)\n",
    "        sigend = time()\n",
    "        sigsum += sigend - sigstr\n",
    "        print(f\"signuture execution time: {sigend - sigstr} sec\")\n",
    "    \n",
    "    # Verify\n",
    "        verstr = time()\n",
    "        vr = falcon.Verify(b\"Hello\", sig)\n",
    "        verend = time()\n",
    "        versum += verend - verstr\n",
    "        print(f\"verify excution time: {verend - verstr} sec\")\n",
    "        print(vr)\n",
    "            \n",
    "    print(\"=====================================\")\n",
    "    print(\"average key generation time: \", kgsum/5)\n",
    "    print(\"average signature time: \", sigsum/5)\n",
    "    print(\"average verify time: \", versum/5)\n",
    "    print(\"=====================================\")\n",
    "    print(\"Exit process\")\n",
    "    \n",
    "    \n",
    "\n"
   ]
  },
  {
   "cell_type": "code",
   "execution_count": null,
   "metadata": {},
   "outputs": [],
   "source": []
  }
 ],
 "metadata": {
  "kernelspec": {
   "display_name": "Python 3",
   "language": "python",
   "name": "python3"
  },
  "language_info": {
   "codemirror_mode": {
    "name": "ipython",
    "version": 3
   },
   "file_extension": ".py",
   "mimetype": "text/x-python",
   "name": "python",
   "nbconvert_exporter": "python",
   "pygments_lexer": "ipython3",
   "version": "3.8.10"
  }
 },
 "nbformat": 4,
 "nbformat_minor": 2
}
