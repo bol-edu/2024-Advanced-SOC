{
 "cells": [
  {
   "cell_type": "code",
   "execution_count": null,
   "metadata": {},
   "outputs": [],
   "source": [
    "from __future__ import print_function\n",
    "\n",
    "import sys\n",
    "import numpy as np\n",
    "from time import time\n",
    "import matplotlib.pyplot as plt \n",
    "\n",
    "sys.path.append('/home/xilinx')\n",
    "from pynq import Overlay\n",
    "from pynq import allocate\n",
    "from pynq import MMIO\n",
    "\n",
    "ROM_SIZE = 0x2000 #8K\n",
    "\n",
    "SOC_UP = 0x0000;\n",
    "SOC_LA = 0x1000;\n",
    "PL_AA_MB = 0x2000;\n",
    "PL_AA = 0x2100;\n",
    "SOC_IS = 0x3000;\n",
    "SOC_AS = 0x4000;\n",
    "SOC_CC = 0x5000;\n",
    "PL_AS = 0x6000;\n",
    "PL_IS = 0x7000;\n",
    "PL_DMA = 0x8000;\n",
    "\n",
    "TST_TOTAL_FRAME_NUM = 1\n",
    "TST_FRAME_WIDTH     = 512\n",
    "TST_FRAME_HEIGHT    = 512\n",
    "TST_TOTAL_PIXEL_NUM = TST_FRAME_WIDTH * TST_FRAME_HEIGHT\n",
    "TST_CTRL_DENOISE    = 0\n",
    "TST_CTRL_EDGEDECT   = 2\n",
    "\n",
    "TST_FRAME_WIDTH, TST_FRAME_HEIGHT, TST_TOTAL_PIXEL_NUM, TST_CTRL_DENOISE, TST_CTRL_EDGEDECT"
   ]
  },
  {
   "cell_type": "code",
   "execution_count": null,
   "metadata": {
    "scrolled": true
   },
   "outputs": [],
   "source": [
    "ol = Overlay(\"/home/xilinx/jupyter_notebooks/caravel_fpga.bit\")\n",
    "#ol.ip_dict"
   ]
  },
  {
   "cell_type": "code",
   "execution_count": null,
   "metadata": {},
   "outputs": [],
   "source": [
    "ipOUTPIN = ol.output_pin_0\n",
    "ipPS = ol.caravel_ps_0\n",
    "# ipReadROMCODE = ol.read_romcode_0\n",
    "\n",
    "#Add for SPI\n",
    "ip_QSPI = ol.axi_quad_spi_0"
   ]
  },
  {
   "cell_type": "code",
   "execution_count": null,
   "metadata": {},
   "outputs": [],
   "source": [
    "# ============================================\n",
    "# AXI QuadSPI Control\n",
    "# ============================================\n",
    "XSP_DGIER_OFFSET = 0x1C\n",
    "XSP_IISR_OFFSET = 0x20\n",
    "XSP_IIER_OFFSET = 0x28\n",
    "XSP_SRR_OFFSET = 0x40\n",
    "XSP_CR_OFFSET = 0x60\n",
    "XSP_SR_OFFSET = 0x64\n",
    "XSP_DTR_OFFSET = 0x68\n",
    "XSP_DRR_OFFSET = 0x6C\n",
    "XSP_SSR_OFFSET = 0x70\n",
    "XSP_TFO_OFFSET = 0x74\n",
    "XSP_RFO_OFFSET = 0x78\n",
    "XSP_REGISTERS = [0x40, 0x60, 0x64, 0x68, 0x6c, 0x70, 0x74, 0x78, 0x1c, 0x20, 0x28]\n",
    "\n",
    "XSP_SRR_RESET_MASK = 0x0A\n",
    "XSP_SR_TX_EMPTY_MASK = 0x04\n",
    "XSP_SR_TX_FULL_MASK = 0x08\n",
    "XSP_CR_TRANS_INHIBIT_MASK = 0x100\n",
    "XSP_CR_LOOPBACK_MASK = 0x01\n",
    "XSP_CR_ENABLE_MASK = 0x02\n",
    "XSP_CR_MASTER_MODE_MASK = 0x04\n",
    "XSP_CR_CLK_POLARITY_MASK = 0x08\n",
    "XSP_CR_CLK_PHASE_MASK = 0x10\n",
    "XSP_CR_TXFIFO_RESET_MASK = 0x20\n",
    "XSP_CR_RXFIFO_RESET_MASK = 0x40\n",
    "XSP_CR_MANUAL_SS_MASK = 0x80\n",
    "\n",
    "SLAVE_NO_SELECTION = 0xFFFFFFFF\n",
    "\n",
    "def cnfg(AxiQspi, clk_phase=0, clk_pol=0):\n",
    "    print(\"Configure device\")\n",
    "    # Reset the SPI device\n",
    "    AxiQspi.write(XSP_SRR_OFFSET, XSP_SRR_RESET_MASK)\n",
    "    # Enable the transmit empty interrupt, which we use to determine progress on the transmission. \n",
    "    AxiQspi.write(XSP_IIER_OFFSET, XSP_SR_TX_EMPTY_MASK)\n",
    "    # Disable the global IPIF interrupt\n",
    "    AxiQspi.write(XSP_DGIER_OFFSET, 0)\n",
    "    # Deselect the slave on the SPI bus\n",
    "    AxiQspi.write(XSP_SSR_OFFSET, SLAVE_NO_SELECTION)\n",
    "    # Disable the transmitter, enable Manual Slave Select Assertion, put SPI controller into master mode, and enable it\n",
    "    ControlReg = AxiQspi.read(XSP_CR_OFFSET)\n",
    "    ControlReg = ControlReg | XSP_CR_MASTER_MODE_MASK | XSP_CR_MANUAL_SS_MASK | XSP_CR_ENABLE_MASK | XSP_CR_TXFIFO_RESET_MASK | XSP_CR_RXFIFO_RESET_MASK\n",
    "    AxiQspi.write(XSP_CR_OFFSET, ControlReg)\n",
    "    ControlReg = AxiQspi.read(XSP_CR_OFFSET)\n",
    "    ControlReg = ControlReg & ~(XSP_CR_CLK_PHASE_MASK | XSP_CR_CLK_POLARITY_MASK) \n",
    "    if clk_phase == 1:\n",
    "        ControlReg = ControlReg | XSP_CR_CLK_PHASE_MASK\n",
    "    if clk_pol == 1:\n",
    "        ControlReg = ControlReg | XSP_CR_CLK_POLARITY_MASK\n",
    "    AxiQspi.write(XSP_CR_OFFSET, ControlReg)\n",
    "\n",
    "    return 0\n",
    "\n",
    "def write_tx_fifo(AxiQspi):\n",
    "    #print(\"TransferData\")\n",
    "    ControlReg = AxiQspi.read(XSP_CR_OFFSET)\n",
    "    ControlReg = ControlReg & ~XSP_CR_TRANS_INHIBIT_MASK\n",
    "    AxiQspi.write(XSP_CR_OFFSET, ControlReg)\n",
    "\n",
    "    StatusReg = AxiQspi.read(XSP_SR_OFFSET)\n",
    "    while (StatusReg & XSP_SR_TX_EMPTY_MASK) == 0:\n",
    "        StatusReg = AxiQspi.read(XSP_SR_OFFSET)\n",
    "\n",
    "    #print('XSP_RFO_OFFSET  : 0x{0:08x}'.format(AxiQspi.read(XSP_RFO_OFFSET)))\n",
    "    ControlReg = AxiQspi.read(XSP_CR_OFFSET)\n",
    "    ControlReg = ControlReg | XSP_CR_TRANS_INHIBIT_MASK\n",
    "    AxiQspi.write(XSP_CR_OFFSET, ControlReg)\n",
    "\n",
    "\n",
    "def read_rx_fifo(bypass_length, AxiQspi):\n",
    "    #print(\"ReadResponse\")\n",
    "    resp = list()\n",
    "    RxFifoStatus = AxiQspi.read(XSP_SR_OFFSET) & 0x01\n",
    "    \n",
    "    # By pass the FIFO data during master issue command and address to slave device\n",
    "    command_addr_length = bypass_length\n",
    "    counter = 0    \n",
    "    \n",
    "    while RxFifoStatus == 0:\n",
    "        #temp = AxiQspi.read(XSP_RFO_OFFSET)\n",
    "        #print('XSP_RFO_OFFSET  : 0x{0:08x}'.format(temp))\n",
    "        temp = AxiQspi.read(XSP_DRR_OFFSET)\n",
    "        #print('XSP_DRR_OFFSET  : 0x{0:08x}'.format(temp))    \n",
    "\n",
    "        counter = counter + 1\n",
    "        if(counter > command_addr_length):\n",
    "            resp.append(temp)        \n",
    "        \n",
    "        RxFifoStatus = AxiQspi.read(XSP_SR_OFFSET) & 0x01\n",
    "\n",
    "    return resp"
   ]
  },
  {
   "cell_type": "code",
   "execution_count": null,
   "metadata": {
    "scrolled": false
   },
   "outputs": [],
   "source": [
    "# Check MPRJ_IO input/out/en\n",
    "# 0x10 : Data signal of ps_mprj_in\n",
    "#        bit 31~0 - ps_mprj_in[31:0] (Read/Write)\n",
    "# 0x14 : Data signal of ps_mprj_in\n",
    "#        bit 5~0 - ps_mprj_in[37:32] (Read/Write)\n",
    "#        others  - reserved\n",
    "# 0x1c : Data signal of ps_mprj_out\n",
    "#        bit 31~0 - ps_mprj_out[31:0] (Read)\n",
    "# 0x20 : Data signal of ps_mprj_out\n",
    "#        bit 5~0 - ps_mprj_out[37:32] (Read)\n",
    "#        others  - reserved\n",
    "# 0x34 : Data signal of ps_mprj_en\n",
    "#        bit 31~0 - ps_mprj_en[31:0] (Read)\n",
    "# 0x38 : Data signal of ps_mprj_en\n",
    "#        bit 5~0 - ps_mprj_en[37:32] (Read)\n",
    "#        others  - reserved\n",
    "\n",
    "print (\"0x10 = \", hex(ipPS.read(0x10)))\n",
    "print (\"0x14 = \", hex(ipPS.read(0x14)))\n",
    "print (\"0x1c = \", hex(ipPS.read(0x1c)))\n",
    "print (\"0x20 = \", hex(ipPS.read(0x20)))\n",
    "print (\"0x34 = \", hex(ipPS.read(0x34)))\n",
    "print (\"0x38 = \", hex(ipPS.read(0x38)))\n"
   ]
  },
  {
   "cell_type": "code",
   "execution_count": null,
   "metadata": {
    "scrolled": true
   },
   "outputs": [],
   "source": [
    "# ============================================\n",
    "# Release Reset First before passthrough mode\n",
    "# ============================================\n",
    "# Release Caravel reset\n",
    "# 0x10 : Data signal of outpin_ctrl\n",
    "#        bit 0  - outpin_ctrl[0] (Read/Write)\n",
    "#        others - reserved\n",
    "print (ipOUTPIN.read(0x10))\n",
    "ipOUTPIN.write(0x10, 1)\n",
    "print (ipOUTPIN.read(0x10))"
   ]
  },
  {
   "cell_type": "code",
   "execution_count": null,
   "metadata": {},
   "outputs": [],
   "source": [
    "# ============================================\n",
    "# Load firmware (fsic.hex) to memory npROM\n",
    "# ============================================\n",
    "\n",
    "# Create np with 8K/4 (4 bytes per index) size and be initiled to 0\n",
    "npROM = np.zeros(ROM_SIZE >> 2, dtype=np.uint32)\n",
    "\n",
    "npROM_index = 0\n",
    "npROM_offset = 0\n",
    "fiROM = open(\"/home/xilinx/jupyter_notebooks/fsic.hex\", \"r+\")\n",
    "\n",
    "for line in fiROM:\n",
    "    # offset header\n",
    "    if line.startswith('@'):\n",
    "        # Ignore first char @\n",
    "        npROM_offset = int(line[1:].strip(b'\\x00'.decode()), base = 16)\n",
    "        npROM_offset = npROM_offset >> 2 # 4byte per offset\n",
    "        #print (npROM_offset)\n",
    "        npROM_index = 0\n",
    "        continue\n",
    "    #print (line)\n",
    "\n",
    "    # We suppose the data must be 32bit alignment\n",
    "    buffer = 0\n",
    "    bytecount = 0\n",
    "    for line_byte in line.strip(b'\\x00'.decode()).split():\n",
    "        buffer += int(line_byte, base = 16) << (8 * bytecount)\n",
    "        bytecount += 1\n",
    "        # Collect 4 bytes, write to npROM\n",
    "        if(bytecount == 4):\n",
    "            npROM[npROM_offset + npROM_index] = buffer\n",
    "            # Clear buffer and bytecount\n",
    "            buffer = 0\n",
    "            bytecount = 0\n",
    "            npROM_index += 1\n",
    "            #print (npROM_index)\n",
    "            continue\n",
    "    # Fill rest data if not alignment 4 bytes\n",
    "    if (bytecount != 0):\n",
    "        npROM[npROM_offset + npROM_index] = buffer\n",
    "        npROM_index += 1\n",
    "    \n",
    "fiROM.close()"
   ]
  },
  {
   "cell_type": "code",
   "execution_count": null,
   "metadata": {},
   "outputs": [],
   "source": [
    "# ============================================\n",
    "# Enabling passthrou mode\n",
    "# ============================================\n",
    "cnfg(ip_QSPI)\n",
    "# Passthrou mode - Write command\n",
    "ip_QSPI.write(XSP_DTR_OFFSET, 0xC4) # Pass-Through (management)\n",
    "ip_QSPI.write(XSP_DTR_OFFSET, 0x02) # Command: Write data to memory\n",
    "ip_QSPI.write(XSP_DTR_OFFSET, 0x00) # Address_byte0\n",
    "ip_QSPI.write(XSP_DTR_OFFSET, 0x00) # Address_byte1\n",
    "ip_QSPI.write(XSP_DTR_OFFSET, 0x00) # Address_byte2\n",
    "\n",
    "print('XSP_TFO_OFFSET  : 0x{0:08x}'.format(ip_QSPI.read(XSP_TFO_OFFSET)))\n",
    "\n",
    "ip_QSPI.write(XSP_SSR_OFFSET, 0xFFFFFFFE)\n",
    "write_tx_fifo(ip_QSPI)\n",
    "\n",
    "print('XSP_TFO_OFFSET  : 0x{0:08x}'.format(ip_QSPI.read(XSP_TFO_OFFSET)))"
   ]
  },
  {
   "cell_type": "code",
   "execution_count": null,
   "metadata": {},
   "outputs": [],
   "source": [
    "# ============================================\n",
    "# Writing FW into SPIROM\n",
    "# ============================================\n",
    "# Fill up Tx_FIFO (16) for each write_tx_fifo\n",
    "for index in range (ROM_SIZE >> 2):\n",
    "     # 4 bytes alignment in npROM\n",
    "    for byte_shift in range(4):\n",
    "        tmp = int((npROM[index] >> (byte_shift * 8)) & 0xFF)\n",
    "        ip_QSPI.write(XSP_DTR_OFFSET, tmp) # Write_data\n",
    "    # TX_FIFO = 16, 4 * 4 = 16\n",
    "    if((index % 3) == 3):\n",
    "        write_tx_fifo(ip_QSPI)\n",
    "        \n",
    "# If rest data is not enough 16 bytes. Tx_FIFO is not empty\n",
    "    StatusReg = ip_QSPI.read(XSP_SR_OFFSET)\n",
    "    if ((StatusReg & XSP_SR_TX_EMPTY_MASK) == 0):\n",
    "         write_tx_fifo(ip_QSPI)"
   ]
  },
  {
   "cell_type": "code",
   "execution_count": null,
   "metadata": {},
   "outputs": [],
   "source": [
    "# ============================================\n",
    "# Read SPIROM for testing\n",
    "# ============================================\n",
    "cnfg(ip_QSPI)"
   ]
  },
  {
   "cell_type": "code",
   "execution_count": null,
   "metadata": {},
   "outputs": [],
   "source": [
    "# Test Passthrou mode - Read command\n",
    "ip_QSPI.write(XSP_DTR_OFFSET, 0xC4) # Pass-Through (management)\n",
    "ip_QSPI.write(XSP_DTR_OFFSET, 0x03) # Command: Read data from memory\n",
    "ip_QSPI.write(XSP_DTR_OFFSET, 0x00) # Address_byte0\n",
    "ip_QSPI.write(XSP_DTR_OFFSET, 0x00) # Address_byte1\n",
    "ip_QSPI.write(XSP_DTR_OFFSET, 0x00) # Address_byte2\n",
    "# Write dummy data\n",
    "data_length = 0x8\n",
    "for index in range(data_length):\n",
    "    ip_QSPI.write(XSP_DTR_OFFSET, 0x00) # Dummy data\n",
    "\n",
    "print('XSP_TFO_OFFSET  : 0x{0:08x}'.format(ip_QSPI.read(XSP_TFO_OFFSET)))\n",
    "ip_QSPI.write(XSP_SSR_OFFSET, 0xFFFFFFFE)"
   ]
  },
  {
   "cell_type": "code",
   "execution_count": null,
   "metadata": {},
   "outputs": [],
   "source": [
    "# Issue SPI master cycle\n",
    "write_tx_fifo(ip_QSPI)\n",
    "\n",
    "# Read the Rx data\n",
    "rx_final = read_rx_fifo(5, ip_QSPI)\n",
    "for data in rx_final:\n",
    "    print (hex(data))"
   ]
  },
  {
   "cell_type": "code",
   "execution_count": null,
   "metadata": {},
   "outputs": [],
   "source": [
    "# Write dummy data\n",
    "data_length = 0x8\n",
    "for index in range(data_length):\n",
    "    ip_QSPI.write(XSP_DTR_OFFSET, 0x00) # Dummy data\n",
    "\n",
    "print('XSP_TFO_OFFSET  : 0x{0:08x}'.format(ip_QSPI.read(XSP_TFO_OFFSET)))"
   ]
  },
  {
   "cell_type": "code",
   "execution_count": null,
   "metadata": {},
   "outputs": [],
   "source": [
    "# Issue SPI master cycle\n",
    "write_tx_fifo(ip_QSPI)\n",
    "\n",
    "# Read the Rx data\n",
    "rx_final = read_rx_fifo(0, ip_QSPI)\n",
    "for data in rx_final:\n",
    "    print (hex(data))"
   ]
  },
  {
   "cell_type": "code",
   "execution_count": null,
   "metadata": {},
   "outputs": [],
   "source": [
    "# ============================================\n",
    "# Exit passthrou mode, FW will be fetched\n",
    "# ============================================\n",
    "ip_QSPI.write(XSP_SSR_OFFSET, SLAVE_NO_SELECTION)"
   ]
  },
  {
   "cell_type": "code",
   "execution_count": null,
   "metadata": {
    "scrolled": true
   },
   "outputs": [],
   "source": [
    "# Check MPRJ_IO input/out/en\n",
    "# 0x10 : Data signal of ps_mprj_in\n",
    "#        bit 31~0 - ps_mprj_in[31:0] (Read/Write)\n",
    "# 0x14 : Data signal of ps_mprj_in\n",
    "#        bit 5~0 - ps_mprj_in[37:32] (Read/Write)\n",
    "#        others  - reserved\n",
    "# 0x1c : Data signal of ps_mprj_out\n",
    "#        bit 31~0 - ps_mprj_out[31:0] (Read)\n",
    "# 0x20 : Data signal of ps_mprj_out\n",
    "#        bit 5~0 - ps_mprj_out[37:32] (Read)\n",
    "#        others  - reserved\n",
    "# 0x34 : Data signal of ps_mprj_en\n",
    "#        bit 31~0 - ps_mprj_en[31:0] (Read)\n",
    "# 0x38 : Data signal of ps_mprj_en\n",
    "#        bit 5~0 - ps_mprj_en[37:32] (Read)\n",
    "#        others  - reserved\n",
    "\n",
    "print (\"0x10 = \", hex(ipPS.read(0x10)))\n",
    "print (\"0x14 = \", hex(ipPS.read(0x14)))\n",
    "print (\"0x1c = \", hex(ipPS.read(0x1c)))\n",
    "print (\"0x20 = \", hex(ipPS.read(0x20)))\n",
    "print (\"0x34 = \", hex(ipPS.read(0x34)))\n",
    "print (\"0x38 = \", hex(ipPS.read(0x38)))"
   ]
  },
  {
   "cell_type": "code",
   "execution_count": null,
   "metadata": {},
   "outputs": [],
   "source": [
    "IP_BASE_ADDRESS = 0x60000000\n",
    "ADDRESS_RANGE = 0x9000\n",
    "mmio = MMIO(IP_BASE_ADDRESS, ADDRESS_RANGE)"
   ]
  },
  {
   "cell_type": "code",
   "execution_count": null,
   "metadata": {},
   "outputs": [],
   "source": [
    "# ====================================================================================== #\n",
    "# ====================================================================================== #\n",
    "# PL_FSIC Side Configuration\n",
    "# ====================================================================================== #\n",
    "# ====================================================================================== #"
   ]
  },
  {
   "cell_type": "code",
   "execution_count": null,
   "metadata": {},
   "outputs": [],
   "source": [
    "# PL_IS Config\n",
    "ADDRESS_OFFSET = PL_IS #0x7000\n",
    "print(\"mmio.read(ADDRESS_OFFSET): \", hex(mmio.read(ADDRESS_OFFSET)))"
   ]
  },
  {
   "cell_type": "code",
   "execution_count": null,
   "metadata": {},
   "outputs": [],
   "source": [
    "mmio.write(ADDRESS_OFFSET, 0x12345671)\n",
    "print(\"mmio.read(ADDRESS_OFFSET): \", hex(mmio.read(ADDRESS_OFFSET)))"
   ]
  },
  {
   "cell_type": "code",
   "execution_count": null,
   "metadata": {},
   "outputs": [],
   "source": [
    "mmio.write(ADDRESS_OFFSET, 0x12345673)\n",
    "print(\"mmio.read(ADDRESS_OFFSET): \", hex(mmio.read(ADDRESS_OFFSET)))"
   ]
  },
  {
   "cell_type": "code",
   "execution_count": null,
   "metadata": {},
   "outputs": [],
   "source": [
    "# PL_DMA Config\n",
    "ADDRESS_OFFSET = PL_DMA # 0x8000\n",
    "print(\"mmio.read(ADDRESS_OFFSET): \", hex(mmio.read(ADDRESS_OFFSET)))\n",
    "print(\"mmio.read(ADDRESS_OFFSET+0x10): \", hex(mmio.read(ADDRESS_OFFSET+0x10)))\n",
    "print(\"mmio.read(ADDRESS_OFFSET+0x20): \", hex(mmio.read(ADDRESS_OFFSET+0x20)))\n",
    "print(\"mmio.read(ADDRESS_OFFSET+0x28): \", hex(mmio.read(ADDRESS_OFFSET+0x28)))\n",
    "print(\"mmio.read(ADDRESS_OFFSET+0x30): \", hex(mmio.read(ADDRESS_OFFSET+0x30)))\n",
    "print(\"mmio.read(ADDRESS_OFFSET+0x38): \", hex(mmio.read(ADDRESS_OFFSET+0x38)))\n",
    "print(\"mmio.read(ADDRESS_OFFSET+0x3C): \", hex(mmio.read(ADDRESS_OFFSET+0x3C)))"
   ]
  },
  {
   "cell_type": "code",
   "execution_count": null,
   "metadata": {},
   "outputs": [],
   "source": [
    "# PL_AS Config\n",
    "ADDRESS_OFFSET = PL_AS # 0x6000\n",
    "print(\"mmio.read(ADDRESS_OFFSET): \", hex(mmio.read(ADDRESS_OFFSET)))\n",
    "mmio.write(ADDRESS_OFFSET, 0x12345676)\n",
    "print(\"mmio.read(ADDRESS_OFFSET): \", hex(mmio.read(ADDRESS_OFFSET)))"
   ]
  },
  {
   "cell_type": "code",
   "execution_count": null,
   "metadata": {},
   "outputs": [],
   "source": [
    "# PL_AA Config\n",
    "ADDRESS_OFFSET = PL_AA # 0x2100\n",
    "print(\"mmio.read(ADDRESS_OFFSET+0x00): \", hex(mmio.read(ADDRESS_OFFSET+0x00)))\n",
    "print(\"mmio.read(ADDRESS_OFFSET+0x04): \", hex(mmio.read(ADDRESS_OFFSET+0x04))) "
   ]
  },
  {
   "cell_type": "code",
   "execution_count": null,
   "metadata": {},
   "outputs": [],
   "source": [
    "mmio.write(ADDRESS_OFFSET+0x00, 0x11111111)\n",
    "mmio.write(ADDRESS_OFFSET+0x04, 0x22222222)"
   ]
  },
  {
   "cell_type": "code",
   "execution_count": null,
   "metadata": {},
   "outputs": [],
   "source": [
    "# PL_AA_MB Mailbox\n",
    "ADDRESS_OFFSET = PL_AA_MB # 0x2000\n",
    "print(\"mmio.read(ADDRESS_OFFSET): \", hex(mmio.read(ADDRESS_OFFSET)))\n",
    "print(\"mmio.read(ADDRESS_OFFSET+0x04): \", hex(mmio.read(ADDRESS_OFFSET+0x04)))\n",
    "print(\"mmio.read(ADDRESS_OFFSET+0x08): \", hex(mmio.read(ADDRESS_OFFSET+0x08)))\n",
    "print(\"mmio.read(ADDRESS_OFFSET+0x0C): \", hex(mmio.read(ADDRESS_OFFSET+0x0C)))\n",
    "print(\"mmio.read(ADDRESS_OFFSET+0x10): \", hex(mmio.read(ADDRESS_OFFSET+0x10)))\n",
    "print(\"mmio.read(ADDRESS_OFFSET+0x14): \", hex(mmio.read(ADDRESS_OFFSET+0x14)))\n",
    "print(\"mmio.read(ADDRESS_OFFSET+0x18): \", hex(mmio.read(ADDRESS_OFFSET+0x18)))\n",
    "print(\"mmio.read(ADDRESS_OFFSET+0x1C): \", hex(mmio.read(ADDRESS_OFFSET+0x1C)))"
   ]
  },
  {
   "cell_type": "code",
   "execution_count": null,
   "metadata": {},
   "outputs": [],
   "source": [
    "mmio.write(ADDRESS_OFFSET, 0x11111112)\n",
    "mmio.write(ADDRESS_OFFSET+0x04, 0x22222223)\n",
    "mmio.write(ADDRESS_OFFSET+0x08, 0x33333334)\n",
    "mmio.write(ADDRESS_OFFSET+0x0C, 0x44444445)\n",
    "mmio.write(ADDRESS_OFFSET+0x10, 0x55555556)\n",
    "mmio.write(ADDRESS_OFFSET+0x14, 0x66666667)\n",
    "mmio.write(ADDRESS_OFFSET+0x18, 0x77777778)\n",
    "mmio.write(ADDRESS_OFFSET+0x1C, 0x88888889)"
   ]
  },
  {
   "cell_type": "code",
   "execution_count": null,
   "metadata": {},
   "outputs": [],
   "source": [
    "# ====================================================================================== #\n",
    "# ====================================================================================== #\n",
    "# PL_Caravel Side Configuration\n",
    "# ====================================================================================== #\n",
    "# ====================================================================================== #"
   ]
  },
  {
   "cell_type": "code",
   "execution_count": null,
   "metadata": {},
   "outputs": [],
   "source": [
    "# Caravel-IS Config\n",
    "ADDRESS_OFFSET = SOC_IS # 0x3000\n",
    "print(\"mmio.read(ADDRESS_OFFSET): \", hex(mmio.read(ADDRESS_OFFSET)))"
   ]
  },
  {
   "cell_type": "code",
   "execution_count": null,
   "metadata": {},
   "outputs": [],
   "source": [
    "# Caravel-IS Config\n",
    "ADDRESS_OFFSET = 0x3000\n",
    "mmio.write(ADDRESS_OFFSET, 0x00000003)"
   ]
  },
  {
   "cell_type": "code",
   "execution_count": null,
   "metadata": {},
   "outputs": [],
   "source": [
    "# Caravel-AS Config\n",
    "ADDRESS_OFFSET = SOC_AS # 0x4000\n",
    "print(\"mmio.read(ADDRESS_OFFSET): \", hex(mmio.read(ADDRESS_OFFSET)))"
   ]
  },
  {
   "cell_type": "code",
   "execution_count": null,
   "metadata": {},
   "outputs": [],
   "source": [
    "# Caravel-AS Config\n",
    "ADDRESS_OFFSET = SOC_AS # 0x4000\n",
    "mmio.write(ADDRESS_OFFSET, 0x00000006)"
   ]
  },
  {
   "cell_type": "code",
   "execution_count": null,
   "metadata": {},
   "outputs": [],
   "source": [
    "# Caravel-CC Config\n",
    "ADDRESS_OFFSET = SOC_CC # 0x5000\n",
    "print(\"mmio.read(ADDRESS_OFFSET): \", hex(mmio.read(ADDRESS_OFFSET)))"
   ]
  },
  {
   "cell_type": "code",
   "execution_count": null,
   "metadata": {},
   "outputs": [],
   "source": [
    "# Caravel-CC Config\n",
    "ADDRESS_OFFSET = SOC_CC # 0x5000\n",
    "mmio.write(ADDRESS_OFFSET, 0x00000000)"
   ]
  },
  {
   "cell_type": "code",
   "execution_count": null,
   "metadata": {},
   "outputs": [],
   "source": [
    "# Caravel-LA Config\n",
    "ADDRESS_OFFSET = SOC_LA # 0x1000\n",
    "print(\"mmio.read(ADDRESS_OFFSET): \", hex(mmio.read(ADDRESS_OFFSET)))"
   ]
  },
  {
   "cell_type": "code",
   "execution_count": null,
   "metadata": {},
   "outputs": [],
   "source": [
    "# Caravel-UP Config\n",
    "ADDRESS_OFFSET = SOC_UP # 0x0000\n",
    "print(\"mmio.read(ADDRESS_OFFSET): \", hex(mmio.read(ADDRESS_OFFSET+0x04)))"
   ]
  },
  {
   "cell_type": "code",
   "execution_count": null,
   "metadata": {},
   "outputs": [],
   "source": [
    "# ====================================================================================== #\n",
    "# ====================================================================================== #\n",
    "# SKIP LADMA Verification\n",
    "# ====================================================================================== #\n",
    "# ====================================================================================== #"
   ]
  },
  {
   "cell_type": "code",
   "execution_count": null,
   "metadata": {},
   "outputs": [],
   "source": [
    "# # Allocation memory\n",
    "# ladma_buf = allocate(shape=(1024,), dtype=np.uint32)\n",
    "# print(\"ladma_buf.device_address: \", hex(ladma_buf.device_address))\n",
    "\n",
    "# IP_BASE_ADDRESS = ladma_buf.device_address\n",
    "# ADDRESS_RANGE = 0x1000\n",
    "# buf_mmio = MMIO(IP_BASE_ADDRESS, ADDRESS_RANGE)\n",
    "# # 0x00 : Control signals\n",
    "# #        bit 0 - ap_start (R/W/COH)\n",
    "# #        bit 1 - ap_done (R/COR)\n",
    "# #        bit 2 - ap_idle (R)\n",
    "# #        bit 3 - ap_ready (R/COR)\n",
    "# # 0x10 : Buffer transfer done status register\n",
    "# #        bit 0 - buffer transfer done status (R)\n",
    "# # 0x20 : Buffer transfer done status clear register\n",
    "# #        bit 0 - clear buffer transfer done status (R/W)\n",
    "# # 0x28 : Buffer Length\n",
    "# #        bit 31~0 - set buffer length (must 1024)\n",
    "# # 0x30 : Triggered condition \n",
    "# #        bit 23~0 - set triggered condidtion (R/W)\n",
    "# #        others  - reserved\n",
    "# # 0x34 : Buffer Lower base address \n",
    "# #        bit 31~0 - (R/W)\n",
    "# # 0x38 : Buffer High base address\n",
    "# #        bit 31~0 - (R/W)\n",
    "# # ladma Configuration\n",
    "# ADDRESS_OFFSET = PL_DMA # 0x8000\n",
    "# # exit clear operation\n",
    "# mmio.write(ADDRESS_OFFSET + 0x20, 0x00000000)\n",
    "# # set buffer length\n",
    "# mmio.write(ADDRESS_OFFSET + 0x28, 0x00000400)\n",
    "# # set trigger condition\n",
    "# mmio.write(ADDRESS_OFFSET + 0x30, 0x00000000)\n",
    "# # set buffer low\n",
    "# mmio.write(ADDRESS_OFFSET + 0x38, ladma_buf.device_address)\n",
    "# # set buffer high\n",
    "# mmio.write(ADDRESS_OFFSET + 0x3C, 0x00000000)"
   ]
  },
  {
   "cell_type": "code",
   "execution_count": null,
   "metadata": {},
   "outputs": [],
   "source": [
    "# ADDRESS_OFFSET = PL_DMA # 0x8000\n",
    "# print(\"mmio.read(ADDRESS_OFFSET+0x00): \", hex(mmio.read(ADDRESS_OFFSET+0x00)))\n",
    "# print(\"mmio.read(ADDRESS_OFFSET+0x10): \", hex(mmio.read(ADDRESS_OFFSET+0x10)))\n",
    "# print(\"mmio.read(ADDRESS_OFFSET+0x20): \", hex(mmio.read(ADDRESS_OFFSET+0x20)))\n",
    "# print(\"mmio.read(ADDRESS_OFFSET+0x28): \", hex(mmio.read(ADDRESS_OFFSET+0x28)))\n",
    "# print(\"mmio.read(ADDRESS_OFFSET+0x30): \", hex(mmio.read(ADDRESS_OFFSET+0x30)))\n",
    "# print(\"mmio.read(ADDRESS_OFFSET+0x38): \", hex(mmio.read(ADDRESS_OFFSET+0x38)))\n",
    "# print(\"mmio.read(ADDRESS_OFFSET+0x3C): \", hex(mmio.read(ADDRESS_OFFSET+0x3C)))"
   ]
  },
  {
   "cell_type": "code",
   "execution_count": null,
   "metadata": {},
   "outputs": [],
   "source": [
    "# # ladma Configuration\n",
    "# ADDRESS_OFFSET = PL_DMA # 0x8000\n",
    "# # set ap_start\n",
    "# mmio.write(ADDRESS_OFFSET + 0x00, 0x00000001)"
   ]
  },
  {
   "cell_type": "code",
   "execution_count": null,
   "metadata": {},
   "outputs": [],
   "source": [
    "# # enable la 0xFFFFFF\n",
    "# ADDRESS_OFFSET = SOC_LA # 0x1000\n",
    "# mmio.write(ADDRESS_OFFSET, 0x00FFFFFF)\n",
    "# #print(\"mmio.read(ADDRESS_OFFSET): \", hex(mmio.read(ADDRESS_OFFSET)))\n",
    "# # select target UP\n",
    "# ADDRESS_OFFSET = SOC_CC # 0x5000\n",
    "# mmio.write(ADDRESS_OFFSET, 0x00000003)\n",
    "# #print(\"mmio.read(ADDRESS_OFFSET): \", hex(mmio.read(ADDRESS_OFFSET)))"
   ]
  },
  {
   "cell_type": "code",
   "execution_count": null,
   "metadata": {},
   "outputs": [],
   "source": [
    "# # ladma Configuration\n",
    "# ADDRESS_OFFSET = PL_DMA # 0x8000\n",
    "# while True:\n",
    "#     if mmio.read(ADDRESS_OFFSET+0x10) == 0x01:\n",
    "#         break\n",
    "# print(\"mmio.read(ADDRESS_OFFSET+0x10): \", hex(mmio.read(ADDRESS_OFFSET+0x10)))\n",
    "\n",
    "# # disable la 0x000000\n",
    "# ADDRESS_OFFSET = SOC_LA # 0x1000\n",
    "# mmio.write(ADDRESS_OFFSET, 0x00000000)\n",
    "# # select fake UP\n",
    "# ADDRESS_OFFSET = SOC_CC # 0x5000\n",
    "# mmio.write(ADDRESS_OFFSET, 0x00000000) \n",
    "\n",
    "# ADDRESS_OFFSET = PL_DMA # 0x8000\n",
    "# # clear buffer transfer done operation\n",
    "# mmio.write(ADDRESS_OFFSET + 0x20, 0x00000001)\n",
    "# # set ap_start\n",
    "# mmio.write(ADDRESS_OFFSET + 0x00, 0x00000001)\n",
    "# while True:\n",
    "#     if mmio.read(ADDRESS_OFFSET+0x10) != 0x01:\n",
    "#         break\n",
    "# print(\"mmio.read(ADDRESS_OFFSET+0x10): \", hex(mmio.read(ADDRESS_OFFSET+0x10)))      "
   ]
  },
  {
   "cell_type": "code",
   "execution_count": null,
   "metadata": {},
   "outputs": [],
   "source": [
    "# ADDRESS_OFFSET = PL_DMA # 0x8000\n",
    "# print(\"mmio.read(ADDRESS_OFFSET+0x00): \", hex(mmio.read(ADDRESS_OFFSET+0x00)))\n",
    "# print(\"mmio.read(ADDRESS_OFFSET+0x10): \", hex(mmio.read(ADDRESS_OFFSET+0x10)))\n",
    "# print(\"mmio.read(ADDRESS_OFFSET+0x20): \", hex(mmio.read(ADDRESS_OFFSET+0x20)))\n",
    "# print(\"mmio.read(ADDRESS_OFFSET+0x28): \", hex(mmio.read(ADDRESS_OFFSET+0x28)))\n",
    "# print(\"mmio.read(ADDRESS_OFFSET+0x30): \", hex(mmio.read(ADDRESS_OFFSET+0x30)))\n",
    "# print(\"mmio.read(ADDRESS_OFFSET+0x38): \", hex(mmio.read(ADDRESS_OFFSET+0x38)))\n",
    "# print(\"mmio.read(ADDRESS_OFFSET+0x3C): \", hex(mmio.read(ADDRESS_OFFSET+0x3C)))"
   ]
  },
  {
   "cell_type": "code",
   "execution_count": null,
   "metadata": {},
   "outputs": [],
   "source": [
    "# #dump la log to file\n",
    "# file = open(\"simulate.log\", \"w\")\n",
    "# for i in range(0,0xFFF,4):\n",
    "#     file.write('{:08x}'.format(buf_mmio.read(i))+\"\\n\")\n",
    "# file.close()"
   ]
  },
  {
   "cell_type": "code",
   "execution_count": null,
   "metadata": {},
   "outputs": [],
   "source": [
    "# # ladma Configuration\n",
    "# ADDRESS_OFFSET = PL_DMA # 0x8000\n",
    "# # exit clear operation\n",
    "# mmio.write(ADDRESS_OFFSET + 0x20, 0x00000000)\n",
    "# # set ap_start again\n",
    "# mmio.write(ADDRESS_OFFSET + 0x00, 0x00000001)\n",
    "\n",
    "# # Confirming SOC_CC & SOC_LA Reading is still work\n",
    "# ADDRESS_OFFSET = SOC_CC # 0x5000\n",
    "# print(\"mmio.read(ADDRESS_OFFSET): \", hex(mmio.read(ADDRESS_OFFSET)))\n",
    "# print(\"mmio.read(ADDRESS_OFFSET): \", hex(mmio.read(ADDRESS_OFFSET)))"
   ]
  },
  {
   "cell_type": "code",
   "execution_count": null,
   "metadata": {},
   "outputs": [],
   "source": [
    "# Translate simulate.log to output_new.vcd, which can be open by gtakwave\n",
    "# %run read_la_data.py"
   ]
  },
  {
   "cell_type": "code",
   "execution_count": null,
   "metadata": {},
   "outputs": [],
   "source": [
    "# ====================================================================================== #\n",
    "# ====================================================================================== #\n",
    "# START UPDMA VERC\n",
    "# USE THE SAME FLOW AS TESTBENCH AS PART1\n",
    "# ====================================================================================== #\n",
    "# ====================================================================================== #"
   ]
  },
  {
   "attachments": {
    "image.png": {
     "image/png": "[encoded data removed]"
    }
   },
   "cell_type": "markdown",
   "metadata": {},
   "source": [
    "### Memory Map\n",
    "![image.png](attachment:image.png)\n",
    "\n",
    "### Register Map\n",
    "| Register          | WordOffset | StartBit | Length | ResetVal | Access | HADDRS | description                                                                |     |\n",
    "| ----------------- | ---------- | -------- | ------ | -------- | ------ | ------ | -------------------------------------------------------------------------- | --- |\n",
    "| reg_rst           | 0          | 0        | [0:0]  | 0        | R/W    | 00     | 1: reset edgedetect IP                                                     |     |\n",
    "| reg_widthIn       | 1          | 0        | [10:0] | 640      | R/W    | 04     | frame width                                                                |     |\n",
    "| reg_heightIn      | 2          | 0        | [9:0]  | 480      | R/W    | 08     | frame height                                                               |     |\n",
    "| reg_ctrl_denoise  | 3          | 0        | [1:0]  | 0        | R/W    | 0C     | 0: Bypass Mode <br/>1: Gaussion Filter<br/>2:Median Filter                 |     |\n",
    "| reg_ctrl_edgedect | 4          | 0        | [1:0]  | 0        | R/W    | 10     | 0: Bypass Mode <br/>1: Laplacian Filter<br/>2: Sobel Filter                |     |\n",
    "| reg_IP_done       | 5          | 0        | [0:0]  | 0        | R/W    | 14     | Read it for checking if a frame is done. Write it for clearing this signal |     |\n",
    "\n",
    "\n",
    "### Setup Flow (As verilog testbench)\n",
    "1. Specify MMIO address\n",
    "2. Load DMA\n",
    "3. PL_UPDMA, s2m exit clear\n",
    "4. PL_UPDMA, s2m disable to clear\n",
    "5. PL_UPDMA, m2s exit clear\n",
    "6. PL_UPDMA, m2s disable to clear\n",
    "7. PL_UPDMA, s2m set buffer length\n",
    "8. PL_UPDMA, s2m set buffer low\n",
    "9. PL_UPDMA, s2m set buffer high\n",
    "10. PL_UPDMA, set image width\n",
    "11. PL_UPDMA, m2s set buffer low\n",
    "12. PL_UPDMA, m2s set buffer high\n",
    "13. PL_UPDMA, m2s set buffer length\n",
    "14. SOC_CC, select IP user project\n",
    "15. SOC_UP, set reg_rst to 1\n",
    "16. SOC_UP, set reg_rst to 0\n",
    "17. SOC_UP, set reg_widthIn\n",
    "18. SOC_UP, set reg_heightOut\n",
    "19. SOC_UP, set reg_ctrl_denoise\n",
    "20. SOC_UP, set reg_ctrl_edgedect\n",
    "21. SOC_CC, recheck and select IP user project\n",
    "22. PL_UPDMA, set ap_start\n",
    "23. PL_UPDMA, check ap_done in FIR IP"
   ]
  },
  {
   "cell_type": "code",
   "execution_count": null,
   "metadata": {},
   "outputs": [],
   "source": []
  },
  {
   "cell_type": "code",
   "execution_count": null,
   "metadata": {},
   "outputs": [],
   "source": [
    "mmio_UPDMA = MMIO(0x4002_0000, 0x0004_0000)   # Specify MMIO address\n",
    "UPDMA_BUFI = allocate(shape=(TST_TOTAL_PIXEL_NUM,), dtype=np.uint32)   # Allocate input buf\n",
    "UPDMA_BUFO = allocate(shape=(TST_TOTAL_PIXEL_NUM,), dtype=np.uint32)   # Allocate output buf\n",
    "GOLDEN = allocate(shape=(TST_TOTAL_PIXEL_NUM,), dtype=np.uint32)   # Allocate golden buf\n",
    "\n",
    "M2SBUF_ADDRESS = UPDMA_BUFI.device_address\n",
    "S2MBUF_ADDRESS = UPDMA_BUFO.device_address\n"
   ]
  },
  {
   "cell_type": "code",
   "execution_count": null,
   "metadata": {},
   "outputs": [],
   "source": [
    "# Load DMA\n",
    "def read_hex_file_to_buffer(file_path, buffer):\n",
    "    with open(file_path, 'r') as file:\n",
    "        for i, line in enumerate(file):\n",
    "            if i >= TST_TOTAL_PIXEL_NUM:\n",
    "                break\n",
    "            buffer[i] = int(line.strip(), 16)\n",
    "\n",
    "# Testpattern Select\n",
    "def load_buffers(TST_CTRL_DENOISE, TST_CTRL_EDGEDECT):\n",
    "    if 0 <= TST_CTRL_DENOISE <= 2 and 0 <= TST_CTRL_EDGEDECT <= 2:\n",
    "        if TST_CTRL_DENOISE == 0:\n",
    "            if TST_CTRL_EDGEDECT == 0:\n",
    "                in_file_name = \"/home/xilinx/jupyter_notebooks/pattern/origin.hex\"\n",
    "                out_file_name = \"/home/xilinx/jupyter_notebooks/pattern/00_origin.hex\"\n",
    "            elif TST_CTRL_EDGEDECT == 1:\n",
    "                in_file_name = \"/home/xilinx/jupyter_notebooks/pattern/var_reduced.hex\"\n",
    "                out_file_name = \"/home/xilinx/jupyter_notebooks/pattern/01_var_reduced.hex\"\n",
    "            elif TST_CTRL_EDGEDECT == 2:\n",
    "                in_file_name = \"/home/xilinx/jupyter_notebooks/pattern/var_enhanced.hex\"\n",
    "                out_file_name = \"/home/xilinx/jupyter_notebooks/pattern/02_var_enhanced.hex\"\n",
    "        elif TST_CTRL_DENOISE == 1:\n",
    "            if TST_CTRL_EDGEDECT == 0:\n",
    "                in_file_name = \"/home/xilinx/jupyter_notebooks/pattern/gaussion.hex\"\n",
    "                out_file_name = \"/home/xilinx/jupyter_notebooks/pattern/10_gaussion.hex\"\n",
    "            elif TST_CTRL_EDGEDECT == 1:\n",
    "                in_file_name = \"/home/xilinx/jupyter_notebooks/pattern/var_reduced_gaussion.hex\"\n",
    "                out_file_name = \"/home/xilinx/jupyter_notebooks/pattern/11_var_reduced_gaussion.hex\"\n",
    "            elif TST_CTRL_EDGEDECT == 2:\n",
    "                in_file_name = \"/home/xilinx/jupyter_notebooks/pattern/var_enhanced_gaussion.hex\"\n",
    "                out_file_name = \"/home/xilinx/jupyter_notebooks/pattern/12_var_enhanced_gaussion.hex\"\n",
    "        elif TST_CTRL_DENOISE == 2:\n",
    "            if TST_CTRL_EDGEDECT == 0:\n",
    "                in_file_name = \"/home/xilinx/jupyter_notebooks/pattern/saltpepper.hex\"\n",
    "                out_file_name = \"/home/xilinx/jupyter_notebooks/pattern/20_saltpepper.hex\"\n",
    "            elif TST_CTRL_EDGEDECT == 1:\n",
    "                in_file_name = \"/home/xilinx/jupyter_notebooks/pattern/var_reduced_saltpepper.hex\"\n",
    "                out_file_name = \"/home/xilinx/jupyter_notebooks/pattern/21_var_reduced_saltpepper.hex\"\n",
    "            elif TST_CTRL_EDGEDECT == 2:\n",
    "                in_file_name = \"/home/xilinx/jupyter_notebooks/pattern/var_enhanced_saltpepper.hex\"\n",
    "                out_file_name = \"/home/xilinx/jupyter_notebooks/pattern/22_var_enhanced_saltpepper.hex\"\n",
    "    read_hex_file_to_buffer(in_file_name, UPDMA_BUFI)\n",
    "    read_hex_file_to_buffer(out_file_name, GOLDEN)\n",
    "\n",
    "\n",
    "load_buffers(TST_CTRL_DENOISE, TST_CTRL_EDGEDECT)\n",
    "\n",
    "# Print the first few elements to verify\n",
    "print(f\"UPDMA_BUFI (first 10 elements):{UPDMA_BUFI[:10]}\")\n",
    "print(f\"UPDMA_BUFO (first 10 elements):{GOLDEN[:10]}\")"
   ]
  },
  {
   "cell_type": "code",
   "execution_count": null,
   "metadata": {},
   "outputs": [],
   "source": [
    "mmio_UPDMA.write(0x0000_0020, 0x0000_0000)   # PL_UPDMA, s2m exit clear\n",
    "mmio_UPDMA.write(0x0000_0030, 0x0000_0000)   # PL_UPDMA, s2m disable to clear\n",
    "mmio_UPDMA.write(0x0000_0078, 0x0000_0000)   # PL_UPDMA, m2s exit clear\n",
    "mmio_UPDMA.write(0x0000_0088, 0x0000_0000)   # PL_UPDMA, m2s disable to clear\n",
    "\n",
    "mmio_UPDMA.write(0x0000_0028, TST_TOTAL_PIXEL_NUM)   # PL_UPDMA, s2m set buffer length\n",
    "mmio_UPDMA.write(0x0000_0038, S2MBUF_ADDRESS)# PL_UPDMA, s2m set buffer low\n",
    "mmio_UPDMA.write(0x0000_003C, 0x0000_0000)   # PL_UPDMA, s2m set buffer high\n",
    "\n",
    "mmio_UPDMA.write(0x0000_0054, TST_FRAME_WIDTH)   # PL_UPDMA, set image width\n",
    "\n",
    "mmio_UPDMA.write(0x0000_005C, M2SBUF_ADDRESS)# PL_UPDMA, m2s set buffer low\n",
    "mmio_UPDMA.write(0x0000_0060, 0x0000_0000)   # PL_UPDMA, m2s set buffer high\n",
    "mmio_UPDMA.write(0x0000_0080, TST_TOTAL_PIXEL_NUM)   # PL_UPDMA, m2s set buffer length"
   ]
  },
  {
   "cell_type": "code",
   "execution_count": null,
   "metadata": {},
   "outputs": [],
   "source": [
    "print(\"mmio_UPDMA.read(0x0000_0020): \", hex(mmio_UPDMA.read(0x0000_0020)))\n",
    "print(\"mmio_UPDMA.read(0x0000_0030): \", hex(mmio_UPDMA.read(0x0000_0030)))\n",
    "print(\"mmio_UPDMA.read(0x0000_0078): \", hex(mmio_UPDMA.read(0x0000_0078)))\n",
    "print(\"mmio_UPDMA.read(0x0000_0088): \", hex(mmio_UPDMA.read(0x0000_0088)))\n",
    "\n",
    "print(\"mmio_UPDMA.read(0x0000_0028): \", hex(mmio_UPDMA.read(0x0000_0028)))\n",
    "print(\"mmio_UPDMA.read(0x0000_0038): \", hex(mmio_UPDMA.read(0x0000_0038)))\n",
    "print(\"mmio_UPDMA.read(0x0000_003C): \", hex(mmio_UPDMA.read(0x0000_003C)))\n",
    "\n",
    "print(\"mmio_UPDMA.read(0x0000_0054): \", hex(mmio_UPDMA.read(0x0000_0054)))\n",
    "\n",
    "print(\"mmio_UPDMA.read(0x0000_005C): \", hex(mmio_UPDMA.read(0x0000_005C)))\n",
    "print(\"mmio_UPDMA.read(0x0000_0060): \", hex(mmio_UPDMA.read(0x0000_0060)))\n",
    "print(\"mmio_UPDMA.read(0x0000_0080): \", hex(mmio_UPDMA.read(0x0000_0080)))"
   ]
  },
  {
   "cell_type": "code",
   "execution_count": null,
   "metadata": {},
   "outputs": [],
   "source": [
    "ADDRESS_OFFSET = SOC_CC                     # SOC_CC, select IP user project\n",
    "mmio.write(ADDRESS_OFFSET, 0x0000_0000)\n",
    "print(\"mmio.read(ADDRESS_OFFSET): \", hex(mmio.read(ADDRESS_OFFSET)))\n",
    "\n",
    "ADDRESS_OFFSET = SOC_UP                     # SOC_UP, configure reg_rst to 1\n",
    "mmio.write(ADDRESS_OFFSET + 0x00, 0x0000_0001)\n",
    "print(\"mmio.read(ADDRESS_OFFSET + 0x00): \", hex(mmio.read(ADDRESS_OFFSET + 0x00)))\n",
    "\n",
    "ADDRESS_OFFSET = SOC_UP                     # SOC_UP, configure reg_rst to 0\n",
    "mmio.write(ADDRESS_OFFSET + 0x00, 0x0000_0000)\n",
    "print(\"mmio.read(ADDRESS_OFFSET + 0x00): \", hex(mmio.read(ADDRESS_OFFSET + 0x00)))\n",
    "\n",
    "ADDRESS_OFFSET = SOC_UP                     # SOC_UP, configure reg_widthIn\n",
    "mmio.write(ADDRESS_OFFSET + 0x04, TST_FRAME_WIDTH)\n",
    "print(\"mmio.read(ADDRESS_OFFSET + 0x04): \", hex(mmio.read(ADDRESS_OFFSET + 0x04)))\n",
    "\n",
    "ADDRESS_OFFSET = SOC_UP                     # SOC_UP, configure reg_heightIn\n",
    "mmio.write(ADDRESS_OFFSET + 0x08, TST_FRAME_HEIGHT)\n",
    "print(\"mmio.read(ADDRESS_OFFSET + 0x08): \", hex(mmio.read(ADDRESS_OFFSET + 0x08)))\n",
    "\n",
    "ADDRESS_OFFSET = SOC_UP                     # SOC_UP, configure reg_ctrl_denoise\n",
    "mmio.write(ADDRESS_OFFSET + 0x0C, TST_CTRL_DENOISE)\n",
    "print(\"mmio.read(ADDRESS_OFFSET + 0x0C): \", hex(mmio.read(ADDRESS_OFFSET + 0x0C)))\n",
    "\n",
    "ADDRESS_OFFSET = SOC_UP                     # SOC_UP, configure reg_ctrl_edgedect\n",
    "mmio.write(ADDRESS_OFFSET + 0x10, TST_CTRL_EDGEDECT)\n",
    "print(\"mmio.read(ADDRESS_OFFSET + 0x10): \", hex(mmio.read(ADDRESS_OFFSET + 0x10)))\n",
    "\n",
    "ADDRESS_OFFSET = SOC_CC                     # SOC_CC, recheck user project sel\n",
    "mmio.write(ADDRESS_OFFSET, 0x0000_0000)\n",
    "print(\"mmio.read(ADDRESS_OFFSET): \", hex(mmio.read(ADDRESS_OFFSET)))"
   ]
  },
  {
   "cell_type": "code",
   "execution_count": null,
   "metadata": {},
   "outputs": [],
   "source": [
    "# ADDRESS_OFFSET = SOC_UP                     # SOC_UP, configure ap_start in FIR IP\n",
    "# mmio.write(ADDRESS_OFFSET, 0x0000_0001)\n",
    "mmio_UPDMA.write(0x0000_0000, 0x0000_0001)  # PL_UPDMA, set ap_start"
   ]
  },
  {
   "cell_type": "code",
   "execution_count": null,
   "metadata": {},
   "outputs": [],
   "source": [
    "while True:                                 # PL_UPDMA, polling ap_done        \n",
    "    if mmio_UPDMA.read(0x0000_0010)==0x0000_0001:\n",
    "        break"
   ]
  },
  {
   "cell_type": "code",
   "execution_count": null,
   "metadata": {},
   "outputs": [],
   "source": [
    "def write_buffer_to_hex_file(buffer, file_path):\n",
    "    with open(file_path, 'w') as file:\n",
    "        for value in buffer:\n",
    "            file.write(f'{value:02x}\\n')\n",
    "\n",
    "output_hex_file_path = 'output.hex'\n",
    "write_buffer_to_hex_file(UPDMA_BUFO, output_hex_file_path)\n",
    "\n",
    "with open(output_hex_file_path, 'r') as file:\n",
    "    for _ in range(10):\n",
    "        print(file.readline().strip())"
   ]
  },
  {
   "cell_type": "code",
   "execution_count": null,
   "metadata": {},
   "outputs": [],
   "source": [
    "# for row in TST_FRAME_HEIGHT:\n",
    "#     for col in TST_FRAME_WIDTH:\n",
    "#         print(f'{UPDMA_BUFO[row*TST_FRAME_WIDTH+col]:02x}', end=(\"\\n\" if col==TST_FRAME_WIDTH-1 else \" \"))"
   ]
  }
 ],
 "metadata": {
  "kernelspec": {
   "display_name": "Python 3",
   "language": "python",
   "name": "python3"
  },
  "language_info": {
   "codemirror_mode": {
    "name": "ipython",
    "version": 3
   },
   "file_extension": ".py",
   "mimetype": "text/x-python",
   "name": "python",
   "nbconvert_exporter": "python",
   "pygments_lexer": "ipython3",
   "version": "3.8.2"
  }
 },
 "nbformat": 4,
 "nbformat_minor": 2
}
