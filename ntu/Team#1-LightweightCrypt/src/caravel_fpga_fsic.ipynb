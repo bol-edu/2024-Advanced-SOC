{
 "cells": [
  {
   "cell_type": "code",
   "execution_count": 1,
   "metadata": {},
   "outputs": [
    {
     "data": {
      "application/javascript": [
       "\n",
       "try {\n",
       "require(['notebook/js/codecell'], function(codecell) {\n",
       "  codecell.CodeCell.options_default.highlight_modes[\n",
       "      'magic_text/x-csrc'] = {'reg':[/^%%microblaze/]};\n",
       "  Jupyter.notebook.events.one('kernel_ready.Kernel', function(){\n",
       "      Jupyter.notebook.get_cells().map(function(cell){\n",
       "          if (cell.cell_type == 'code'){ cell.auto_highlight(); } }) ;\n",
       "  });\n",
       "});\n",
       "} catch (e) {};\n"
      ]
     },
     "metadata": {},
     "output_type": "display_data"
    },
    {
     "data": {
      "application/javascript": [
       "\n",
       "try {\n",
       "require(['notebook/js/codecell'], function(codecell) {\n",
       "  codecell.CodeCell.options_default.highlight_modes[\n",
       "      'magic_text/x-csrc'] = {'reg':[/^%%pybind11/]};\n",
       "  Jupyter.notebook.events.one('kernel_ready.Kernel', function(){\n",
       "      Jupyter.notebook.get_cells().map(function(cell){\n",
       "          if (cell.cell_type == 'code'){ cell.auto_highlight(); } }) ;\n",
       "  });\n",
       "});\n",
       "} catch (e) {};\n"
      ]
     },
     "metadata": {},
     "output_type": "display_data"
    }
   ],
   "source": [
    "from __future__ import print_function\n",
    "\n",
    "import sys\n",
    "import numpy as np\n",
    "from time import time\n",
    "import matplotlib.pyplot as plt \n",
    "\n",
    "sys.path.append('/home/xilinx')\n",
    "from pynq import Overlay\n",
    "from pynq import allocate\n",
    "from pynq import MMIO\n",
    "\n",
    "ROM_SIZE = 0x2000 #8K\n",
    "\n",
    "SOC_UP = 0x0000;\n",
    "SOC_LA = 0x1000;\n",
    "PL_AA_MB = 0x2000;\n",
    "PL_AA = 0x2100;\n",
    "SOC_IS = 0x3000;\n",
    "SOC_AS = 0x4000;\n",
    "SOC_CC = 0x5000;\n",
    "PL_AS = 0x6000;\n",
    "PL_IS = 0x7000;\n",
    "PL_DMA = 0x8000;"
   ]
  },
  {
   "cell_type": "code",
   "execution_count": 2,
   "metadata": {
    "scrolled": true
   },
   "outputs": [],
   "source": [
    "ol = Overlay(\"/home/xilinx/jupyter_notebooks/caravel_fpga.bit\")\n",
    "#ol.ip_dict"
   ]
  },
  {
   "cell_type": "code",
   "execution_count": 3,
   "metadata": {},
   "outputs": [],
   "source": [
    "ipOUTPIN = ol.output_pin_0\n",
    "ipPS = ol.caravel_ps_0\n",
    "# ipReadROMCODE = ol.read_romcode_0\n",
    "\n",
    "#Add for SPI\n",
    "ip_QSPI = ol.axi_quad_spi_0"
   ]
  },
  {
   "cell_type": "code",
   "execution_count": 4,
   "metadata": {},
   "outputs": [],
   "source": [
    "# ============================================\n",
    "# AXI QuadSPI Control\n",
    "# ============================================\n",
    "XSP_DGIER_OFFSET = 0x1C\n",
    "XSP_IISR_OFFSET = 0x20\n",
    "XSP_IIER_OFFSET = 0x28\n",
    "XSP_SRR_OFFSET = 0x40\n",
    "XSP_CR_OFFSET = 0x60\n",
    "XSP_SR_OFFSET = 0x64\n",
    "XSP_DTR_OFFSET = 0x68\n",
    "XSP_DRR_OFFSET = 0x6C\n",
    "XSP_SSR_OFFSET = 0x70\n",
    "XSP_TFO_OFFSET = 0x74\n",
    "XSP_RFO_OFFSET = 0x78\n",
    "XSP_REGISTERS = [0x40, 0x60, 0x64, 0x68, 0x6c, 0x70, 0x74, 0x78, 0x1c, 0x20, 0x28]\n",
    "\n",
    "XSP_SRR_RESET_MASK = 0x0A\n",
    "XSP_SR_TX_EMPTY_MASK = 0x04\n",
    "XSP_SR_TX_FULL_MASK = 0x08\n",
    "XSP_CR_TRANS_INHIBIT_MASK = 0x100\n",
    "XSP_CR_LOOPBACK_MASK = 0x01\n",
    "XSP_CR_ENABLE_MASK = 0x02\n",
    "XSP_CR_MASTER_MODE_MASK = 0x04\n",
    "XSP_CR_CLK_POLARITY_MASK = 0x08\n",
    "XSP_CR_CLK_PHASE_MASK = 0x10\n",
    "XSP_CR_TXFIFO_RESET_MASK = 0x20\n",
    "XSP_CR_RXFIFO_RESET_MASK = 0x40\n",
    "XSP_CR_MANUAL_SS_MASK = 0x80\n",
    "\n",
    "SLAVE_NO_SELECTION = 0xFFFFFFFF\n",
    "\n",
    "def cnfg(AxiQspi, clk_phase=0, clk_pol=0):\n",
    "    print(\"Configure device\")\n",
    "    # Reset the SPI device\n",
    "    AxiQspi.write(XSP_SRR_OFFSET, XSP_SRR_RESET_MASK)\n",
    "    # Enable the transmit empty interrupt, which we use to determine progress on the transmission. \n",
    "    AxiQspi.write(XSP_IIER_OFFSET, XSP_SR_TX_EMPTY_MASK)\n",
    "    # Disable the global IPIF interrupt\n",
    "    AxiQspi.write(XSP_DGIER_OFFSET, 0)\n",
    "    # Deselect the slave on the SPI bus\n",
    "    AxiQspi.write(XSP_SSR_OFFSET, SLAVE_NO_SELECTION)\n",
    "    # Disable the transmitter, enable Manual Slave Select Assertion, put SPI controller into master mode, and enable it\n",
    "    ControlReg = AxiQspi.read(XSP_CR_OFFSET)\n",
    "    ControlReg = ControlReg | XSP_CR_MASTER_MODE_MASK | XSP_CR_MANUAL_SS_MASK | XSP_CR_ENABLE_MASK | XSP_CR_TXFIFO_RESET_MASK | XSP_CR_RXFIFO_RESET_MASK\n",
    "    AxiQspi.write(XSP_CR_OFFSET, ControlReg)\n",
    "    ControlReg = AxiQspi.read(XSP_CR_OFFSET)\n",
    "    ControlReg = ControlReg & ~(XSP_CR_CLK_PHASE_MASK | XSP_CR_CLK_POLARITY_MASK) \n",
    "    if clk_phase == 1:\n",
    "        ControlReg = ControlReg | XSP_CR_CLK_PHASE_MASK\n",
    "    if clk_pol == 1:\n",
    "        ControlReg = ControlReg | XSP_CR_CLK_POLARITY_MASK\n",
    "    AxiQspi.write(XSP_CR_OFFSET, ControlReg)\n",
    "\n",
    "    return 0\n",
    "\n",
    "def write_tx_fifo(AxiQspi):\n",
    "    #print(\"TransferData\")\n",
    "    ControlReg = AxiQspi.read(XSP_CR_OFFSET)\n",
    "    ControlReg = ControlReg & ~XSP_CR_TRANS_INHIBIT_MASK\n",
    "    AxiQspi.write(XSP_CR_OFFSET, ControlReg)\n",
    "\n",
    "    StatusReg = AxiQspi.read(XSP_SR_OFFSET)\n",
    "    while (StatusReg & XSP_SR_TX_EMPTY_MASK) == 0:\n",
    "        StatusReg = AxiQspi.read(XSP_SR_OFFSET)\n",
    "\n",
    "    #print('XSP_RFO_OFFSET  : 0x{0:08x}'.format(AxiQspi.read(XSP_RFO_OFFSET)))\n",
    "    ControlReg = AxiQspi.read(XSP_CR_OFFSET)\n",
    "    ControlReg = ControlReg | XSP_CR_TRANS_INHIBIT_MASK\n",
    "    AxiQspi.write(XSP_CR_OFFSET, ControlReg)\n",
    "\n",
    "\n",
    "def read_rx_fifo(bypass_length, AxiQspi):\n",
    "    #print(\"ReadResponse\")\n",
    "    resp = list()\n",
    "    RxFifoStatus = AxiQspi.read(XSP_SR_OFFSET) & 0x01\n",
    "    \n",
    "    # By pass the FIFO data during master issue command and address to slave device\n",
    "    command_addr_length = bypass_length\n",
    "    counter = 0    \n",
    "    \n",
    "    while RxFifoStatus == 0:\n",
    "        #temp = AxiQspi.read(XSP_RFO_OFFSET)\n",
    "        #print('XSP_RFO_OFFSET  : 0x{0:08x}'.format(temp))\n",
    "        temp = AxiQspi.read(XSP_DRR_OFFSET)\n",
    "        #print('XSP_DRR_OFFSET  : 0x{0:08x}'.format(temp))    \n",
    "\n",
    "        counter = counter + 1\n",
    "        if(counter > command_addr_length):\n",
    "            resp.append(temp)        \n",
    "        \n",
    "        RxFifoStatus = AxiQspi.read(XSP_SR_OFFSET) & 0x01\n",
    "\n",
    "    return resp"
   ]
  },
  {
   "cell_type": "code",
   "execution_count": 5,
   "metadata": {
    "scrolled": false
   },
   "outputs": [
    {
     "name": "stdout",
     "output_type": "stream",
     "text": [
      "0x10 =  0x0\n",
      "0x14 =  0x0\n",
      "0x1c =  0x0\n",
      "0x20 =  0x0\n",
      "0x34 =  0xfffffff7\n",
      "0x38 =  0x3f\n"
     ]
    }
   ],
   "source": [
    "# Check MPRJ_IO input/out/en\n",
    "# 0x10 : Data signal of ps_mprj_in\n",
    "#        bit 31~0 - ps_mprj_in[31:0] (Read/Write)\n",
    "# 0x14 : Data signal of ps_mprj_in\n",
    "#        bit 5~0 - ps_mprj_in[37:32] (Read/Write)\n",
    "#        others  - reserved\n",
    "# 0x1c : Data signal of ps_mprj_out\n",
    "#        bit 31~0 - ps_mprj_out[31:0] (Read)\n",
    "# 0x20 : Data signal of ps_mprj_out\n",
    "#        bit 5~0 - ps_mprj_out[37:32] (Read)\n",
    "#        others  - reserved\n",
    "# 0x34 : Data signal of ps_mprj_en\n",
    "#        bit 31~0 - ps_mprj_en[31:0] (Read)\n",
    "# 0x38 : Data signal of ps_mprj_en\n",
    "#        bit 5~0 - ps_mprj_en[37:32] (Read)\n",
    "#        others  - reserved\n",
    "\n",
    "print (\"0x10 = \", hex(ipPS.read(0x10)))\n",
    "print (\"0x14 = \", hex(ipPS.read(0x14)))\n",
    "print (\"0x1c = \", hex(ipPS.read(0x1c)))\n",
    "print (\"0x20 = \", hex(ipPS.read(0x20)))\n",
    "print (\"0x34 = \", hex(ipPS.read(0x34)))\n",
    "print (\"0x38 = \", hex(ipPS.read(0x38)))\n"
   ]
  },
  {
   "cell_type": "code",
   "execution_count": 6,
   "metadata": {
    "scrolled": true
   },
   "outputs": [
    {
     "name": "stdout",
     "output_type": "stream",
     "text": [
      "0\n",
      "1\n"
     ]
    }
   ],
   "source": [
    "# ============================================\n",
    "# Release Reset First before passthrough mode\n",
    "# ============================================\n",
    "# Release Caravel reset\n",
    "# 0x10 : Data signal of outpin_ctrl\n",
    "#        bit 0  - outpin_ctrl[0] (Read/Write)\n",
    "#        others - reserved\n",
    "print (ipOUTPIN.read(0x10))\n",
    "ipOUTPIN.write(0x10, 1)\n",
    "print (ipOUTPIN.read(0x10))"
   ]
  },
  {
   "cell_type": "code",
   "execution_count": 7,
   "metadata": {},
   "outputs": [],
   "source": [
    "# ============================================\n",
    "# Load firmware (fsic.hex) to memory npROM\n",
    "# ============================================\n",
    "\n",
    "# Create np with 8K/4 (4 bytes per index) size and be initiled to 0\n",
    "npROM = np.zeros(ROM_SIZE >> 2, dtype=np.uint32)\n",
    "\n",
    "npROM_index = 0\n",
    "npROM_offset = 0\n",
    "fiROM = open(\"/home/xilinx/jupyter_notebooks/fsic.hex\", \"r+\")\n",
    "\n",
    "for line in fiROM:\n",
    "    # offset header\n",
    "    if line.startswith('@'):\n",
    "        # Ignore first char @\n",
    "        npROM_offset = int(line[1:].strip(b'\\x00'.decode()), base = 16)\n",
    "        npROM_offset = npROM_offset >> 2 # 4byte per offset\n",
    "        #print (npROM_offset)\n",
    "        npROM_index = 0\n",
    "        continue\n",
    "    #print (line)\n",
    "\n",
    "    # We suppose the data must be 32bit alignment\n",
    "    buffer = 0\n",
    "    bytecount = 0\n",
    "    for line_byte in line.strip(b'\\x00'.decode()).split():\n",
    "        buffer += int(line_byte, base = 16) << (8 * bytecount)\n",
    "        bytecount += 1\n",
    "        # Collect 4 bytes, write to npROM\n",
    "        if(bytecount == 4):\n",
    "            npROM[npROM_offset + npROM_index] = buffer\n",
    "            # Clear buffer and bytecount\n",
    "            buffer = 0\n",
    "            bytecount = 0\n",
    "            npROM_index += 1\n",
    "            #print (npROM_index)\n",
    "            continue\n",
    "    # Fill rest data if not alignment 4 bytes\n",
    "    if (bytecount != 0):\n",
    "        npROM[npROM_offset + npROM_index] = buffer\n",
    "        npROM_index += 1\n",
    "    \n",
    "fiROM.close()"
   ]
  },
  {
   "cell_type": "code",
   "execution_count": 8,
   "metadata": {},
   "outputs": [
    {
     "name": "stdout",
     "output_type": "stream",
     "text": [
      "Configure device\n",
      "XSP_TFO_OFFSET  : 0x00000004\n",
      "XSP_TFO_OFFSET  : 0x00000000\n"
     ]
    }
   ],
   "source": [
    "# ============================================\n",
    "# Enabling passthrou mode\n",
    "# ============================================\n",
    "cnfg(ip_QSPI)\n",
    "# Passthrou mode - Write command\n",
    "ip_QSPI.write(XSP_DTR_OFFSET, 0xC4) # Pass-Through (management)\n",
    "ip_QSPI.write(XSP_DTR_OFFSET, 0x02) # Command: Write data to memory\n",
    "ip_QSPI.write(XSP_DTR_OFFSET, 0x00) # Address_byte0\n",
    "ip_QSPI.write(XSP_DTR_OFFSET, 0x00) # Address_byte1\n",
    "ip_QSPI.write(XSP_DTR_OFFSET, 0x00) # Address_byte2\n",
    "\n",
    "print('XSP_TFO_OFFSET  : 0x{0:08x}'.format(ip_QSPI.read(XSP_TFO_OFFSET)))\n",
    "\n",
    "ip_QSPI.write(XSP_SSR_OFFSET, 0xFFFFFFFE)\n",
    "write_tx_fifo(ip_QSPI)\n",
    "\n",
    "print('XSP_TFO_OFFSET  : 0x{0:08x}'.format(ip_QSPI.read(XSP_TFO_OFFSET)))"
   ]
  },
  {
   "cell_type": "code",
   "execution_count": 9,
   "metadata": {},
   "outputs": [],
   "source": [
    "# ============================================\n",
    "# Writing FW into SPIROM\n",
    "# ============================================\n",
    "# Fill up Tx_FIFO (16) for each write_tx_fifo\n",
    "for index in range (ROM_SIZE >> 2):\n",
    "     # 4 bytes alignment in npROM\n",
    "    for byte_shift in range(4):\n",
    "        tmp = int((npROM[index] >> (byte_shift * 8)) & 0xFF)\n",
    "        ip_QSPI.write(XSP_DTR_OFFSET, tmp) # Write_data\n",
    "    # TX_FIFO = 16, 4 * 4 = 16\n",
    "    if((index % 3) == 3):\n",
    "        write_tx_fifo(ip_QSPI)\n",
    "        \n",
    "# If rest data is not enough 16 bytes. Tx_FIFO is not empty\n",
    "    StatusReg = ip_QSPI.read(XSP_SR_OFFSET)\n",
    "    if ((StatusReg & XSP_SR_TX_EMPTY_MASK) == 0):\n",
    "         write_tx_fifo(ip_QSPI)"
   ]
  },
  {
   "cell_type": "code",
   "execution_count": 10,
   "metadata": {},
   "outputs": [
    {
     "name": "stdout",
     "output_type": "stream",
     "text": [
      "Configure device\n"
     ]
    },
    {
     "data": {
      "text/plain": [
       "0"
      ]
     },
     "execution_count": 10,
     "metadata": {},
     "output_type": "execute_result"
    }
   ],
   "source": [
    "# ============================================\n",
    "# Read SPIROM for testing\n",
    "# ============================================\n",
    "cnfg(ip_QSPI)"
   ]
  },
  {
   "cell_type": "code",
   "execution_count": 11,
   "metadata": {},
   "outputs": [
    {
     "name": "stdout",
     "output_type": "stream",
     "text": [
      "XSP_TFO_OFFSET  : 0x0000000c\n"
     ]
    }
   ],
   "source": [
    "# Test Passthrou mode - Read command\n",
    "ip_QSPI.write(XSP_DTR_OFFSET, 0xC4) # Pass-Through (management)\n",
    "ip_QSPI.write(XSP_DTR_OFFSET, 0x03) # Command: Read data from memory\n",
    "ip_QSPI.write(XSP_DTR_OFFSET, 0x00) # Address_byte0\n",
    "ip_QSPI.write(XSP_DTR_OFFSET, 0x00) # Address_byte1\n",
    "ip_QSPI.write(XSP_DTR_OFFSET, 0x00) # Address_byte2\n",
    "# Write dummy data\n",
    "data_length = 0x8\n",
    "for index in range(data_length):\n",
    "    ip_QSPI.write(XSP_DTR_OFFSET, 0x00) # Dummy data\n",
    "\n",
    "print('XSP_TFO_OFFSET  : 0x{0:08x}'.format(ip_QSPI.read(XSP_TFO_OFFSET)))\n",
    "ip_QSPI.write(XSP_SSR_OFFSET, 0xFFFFFFFE)"
   ]
  },
  {
   "cell_type": "code",
   "execution_count": 12,
   "metadata": {},
   "outputs": [
    {
     "name": "stdout",
     "output_type": "stream",
     "text": [
      "0x6f\n",
      "0x0\n",
      "0x0\n",
      "0xb\n",
      "0x13\n",
      "0x0\n",
      "0x0\n",
      "0x0\n"
     ]
    }
   ],
   "source": [
    "# Issue SPI master cycle\n",
    "write_tx_fifo(ip_QSPI)\n",
    "\n",
    "# Read the Rx data\n",
    "rx_final = read_rx_fifo(5, ip_QSPI)\n",
    "for data in rx_final:\n",
    "    print (hex(data))"
   ]
  },
  {
   "cell_type": "code",
   "execution_count": 13,
   "metadata": {},
   "outputs": [
    {
     "name": "stdout",
     "output_type": "stream",
     "text": [
      "XSP_TFO_OFFSET  : 0x00000007\n"
     ]
    }
   ],
   "source": [
    "# Write dummy data\n",
    "data_length = 0x8\n",
    "for index in range(data_length):\n",
    "    ip_QSPI.write(XSP_DTR_OFFSET, 0x00) # Dummy data\n",
    "\n",
    "print('XSP_TFO_OFFSET  : 0x{0:08x}'.format(ip_QSPI.read(XSP_TFO_OFFSET)))"
   ]
  },
  {
   "cell_type": "code",
   "execution_count": 14,
   "metadata": {},
   "outputs": [
    {
     "name": "stdout",
     "output_type": "stream",
     "text": [
      "0x13\n",
      "0x0\n",
      "0x0\n",
      "0x0\n",
      "0x13\n",
      "0x0\n",
      "0x0\n",
      "0x0\n"
     ]
    }
   ],
   "source": [
    "# Issue SPI master cycle\n",
    "write_tx_fifo(ip_QSPI)\n",
    "\n",
    "# Read the Rx data\n",
    "rx_final = read_rx_fifo(0, ip_QSPI)\n",
    "for data in rx_final:\n",
    "    print (hex(data))"
   ]
  },
  {
   "cell_type": "code",
   "execution_count": 15,
   "metadata": {},
   "outputs": [],
   "source": [
    "# ============================================\n",
    "# Exit passthrou mode, FW will be fetched\n",
    "# ============================================\n",
    "ip_QSPI.write(XSP_SSR_OFFSET, SLAVE_NO_SELECTION)"
   ]
  },
  {
   "cell_type": "code",
   "execution_count": 16,
   "metadata": {
    "scrolled": true
   },
   "outputs": [
    {
     "name": "stdout",
     "output_type": "stream",
     "text": [
      "0x10 =  0x0\n",
      "0x14 =  0x0\n",
      "0x1c =  0x0\n",
      "0x20 =  0x0\n",
      "0x34 =  0x3ffff6\n",
      "0x38 =  0x10\n"
     ]
    }
   ],
   "source": [
    "# Check MPRJ_IO input/out/en\n",
    "# 0x10 : Data signal of ps_mprj_in\n",
    "#        bit 31~0 - ps_mprj_in[31:0] (Read/Write)\n",
    "# 0x14 : Data signal of ps_mprj_in\n",
    "#        bit 5~0 - ps_mprj_in[37:32] (Read/Write)\n",
    "#        others  - reserved\n",
    "# 0x1c : Data signal of ps_mprj_out\n",
    "#        bit 31~0 - ps_mprj_out[31:0] (Read)\n",
    "# 0x20 : Data signal of ps_mprj_out\n",
    "#        bit 5~0 - ps_mprj_out[37:32] (Read)\n",
    "#        others  - reserved\n",
    "# 0x34 : Data signal of ps_mprj_en\n",
    "#        bit 31~0 - ps_mprj_en[31:0] (Read)\n",
    "# 0x38 : Data signal of ps_mprj_en\n",
    "#        bit 5~0 - ps_mprj_en[37:32] (Read)\n",
    "#        others  - reserved\n",
    "\n",
    "print (\"0x10 = \", hex(ipPS.read(0x10)))\n",
    "print (\"0x14 = \", hex(ipPS.read(0x14)))\n",
    "print (\"0x1c = \", hex(ipPS.read(0x1c)))\n",
    "print (\"0x20 = \", hex(ipPS.read(0x20)))\n",
    "print (\"0x34 = \", hex(ipPS.read(0x34)))\n",
    "print (\"0x38 = \", hex(ipPS.read(0x38)))"
   ]
  },
  {
   "cell_type": "code",
   "execution_count": 17,
   "metadata": {},
   "outputs": [],
   "source": [
    "IP_BASE_ADDRESS = 0x60000000\n",
    "ADDRESS_RANGE = 0x9000\n",
    "mmio = MMIO(IP_BASE_ADDRESS, ADDRESS_RANGE)"
   ]
  },
  {
   "cell_type": "code",
   "execution_count": 18,
   "metadata": {},
   "outputs": [],
   "source": [
    "# ====================================================================================== #\n",
    "# ====================================================================================== #\n",
    "# PL_FSIC Side Configuration\n",
    "# ====================================================================================== #\n",
    "# ====================================================================================== #"
   ]
  },
  {
   "cell_type": "code",
   "execution_count": 19,
   "metadata": {},
   "outputs": [
    {
     "name": "stdout",
     "output_type": "stream",
     "text": [
      "mmio.read(ADDRESS_OFFSET):  0x0\n"
     ]
    }
   ],
   "source": [
    "# PL_IS Config\n",
    "ADDRESS_OFFSET = PL_IS #0x7000\n",
    "print(\"mmio.read(ADDRESS_OFFSET): \", hex(mmio.read(ADDRESS_OFFSET)))"
   ]
  },
  {
   "cell_type": "code",
   "execution_count": 20,
   "metadata": {},
   "outputs": [
    {
     "name": "stdout",
     "output_type": "stream",
     "text": [
      "mmio.read(ADDRESS_OFFSET):  0x1\n"
     ]
    }
   ],
   "source": [
    "mmio.write(ADDRESS_OFFSET, 0x12345671)\n",
    "print(\"mmio.read(ADDRESS_OFFSET): \", hex(mmio.read(ADDRESS_OFFSET)))"
   ]
  },
  {
   "cell_type": "code",
   "execution_count": 21,
   "metadata": {},
   "outputs": [
    {
     "name": "stdout",
     "output_type": "stream",
     "text": [
      "mmio.read(ADDRESS_OFFSET):  0x3\n"
     ]
    }
   ],
   "source": [
    "mmio.write(ADDRESS_OFFSET, 0x12345673)\n",
    "print(\"mmio.read(ADDRESS_OFFSET): \", hex(mmio.read(ADDRESS_OFFSET)))"
   ]
  },
  {
   "cell_type": "code",
   "execution_count": 22,
   "metadata": {},
   "outputs": [
    {
     "name": "stdout",
     "output_type": "stream",
     "text": [
      "mmio.read(ADDRESS_OFFSET):  0x4\n",
      "mmio.read(ADDRESS_OFFSET+0x10):  0x0\n",
      "mmio.read(ADDRESS_OFFSET+0x20):  0x0\n",
      "mmio.read(ADDRESS_OFFSET+0x28):  0x0\n",
      "mmio.read(ADDRESS_OFFSET+0x30):  0x0\n",
      "mmio.read(ADDRESS_OFFSET+0x38):  0x0\n",
      "mmio.read(ADDRESS_OFFSET+0x3C):  0x0\n"
     ]
    }
   ],
   "source": [
    "# PL_DMA Config\n",
    "ADDRESS_OFFSET = PL_DMA # 0x8000\n",
    "print(\"mmio.read(ADDRESS_OFFSET): \", hex(mmio.read(ADDRESS_OFFSET)))\n",
    "print(\"mmio.read(ADDRESS_OFFSET+0x10): \", hex(mmio.read(ADDRESS_OFFSET+0x10)))\n",
    "print(\"mmio.read(ADDRESS_OFFSET+0x20): \", hex(mmio.read(ADDRESS_OFFSET+0x20)))\n",
    "print(\"mmio.read(ADDRESS_OFFSET+0x28): \", hex(mmio.read(ADDRESS_OFFSET+0x28)))\n",
    "print(\"mmio.read(ADDRESS_OFFSET+0x30): \", hex(mmio.read(ADDRESS_OFFSET+0x30)))\n",
    "print(\"mmio.read(ADDRESS_OFFSET+0x38): \", hex(mmio.read(ADDRESS_OFFSET+0x38)))\n",
    "print(\"mmio.read(ADDRESS_OFFSET+0x3C): \", hex(mmio.read(ADDRESS_OFFSET+0x3C)))"
   ]
  },
  {
   "cell_type": "code",
   "execution_count": 23,
   "metadata": {},
   "outputs": [
    {
     "name": "stdout",
     "output_type": "stream",
     "text": [
      "mmio.read(ADDRESS_OFFSET):  0x6\n",
      "mmio.read(ADDRESS_OFFSET):  0x6\n"
     ]
    }
   ],
   "source": [
    "# PL_AS Config\n",
    "ADDRESS_OFFSET = PL_AS # 0x6000\n",
    "print(\"mmio.read(ADDRESS_OFFSET): \", hex(mmio.read(ADDRESS_OFFSET)))\n",
    "mmio.write(ADDRESS_OFFSET, 0x12345676)\n",
    "print(\"mmio.read(ADDRESS_OFFSET): \", hex(mmio.read(ADDRESS_OFFSET)))"
   ]
  },
  {
   "cell_type": "code",
   "execution_count": 24,
   "metadata": {},
   "outputs": [
    {
     "name": "stdout",
     "output_type": "stream",
     "text": [
      "mmio.read(ADDRESS_OFFSET+0x00):  0x0\n",
      "mmio.read(ADDRESS_OFFSET+0x04):  0x0\n"
     ]
    }
   ],
   "source": [
    "# PL_AA Config\n",
    "ADDRESS_OFFSET = PL_AA # 0x2100\n",
    "print(\"mmio.read(ADDRESS_OFFSET+0x00): \", hex(mmio.read(ADDRESS_OFFSET+0x00)))\n",
    "print(\"mmio.read(ADDRESS_OFFSET+0x04): \", hex(mmio.read(ADDRESS_OFFSET+0x04))) "
   ]
  },
  {
   "cell_type": "code",
   "execution_count": 25,
   "metadata": {},
   "outputs": [],
   "source": [
    "mmio.write(ADDRESS_OFFSET+0x00, 0x11111111)\n",
    "mmio.write(ADDRESS_OFFSET+0x04, 0x22222222)"
   ]
  },
  {
   "cell_type": "code",
   "execution_count": 26,
   "metadata": {},
   "outputs": [
    {
     "name": "stdout",
     "output_type": "stream",
     "text": [
      "mmio.read(ADDRESS_OFFSET):  0x0\n",
      "mmio.read(ADDRESS_OFFSET+0x04):  0x0\n",
      "mmio.read(ADDRESS_OFFSET+0x08):  0x0\n",
      "mmio.read(ADDRESS_OFFSET+0x0C):  0x0\n",
      "mmio.read(ADDRESS_OFFSET+0x10):  0x0\n",
      "mmio.read(ADDRESS_OFFSET+0x14):  0x0\n",
      "mmio.read(ADDRESS_OFFSET+0x18):  0x0\n",
      "mmio.read(ADDRESS_OFFSET+0x1C):  0x0\n"
     ]
    }
   ],
   "source": [
    "# PL_AA_MB Mailbox\n",
    "ADDRESS_OFFSET = PL_AA_MB # 0x2000\n",
    "print(\"mmio.read(ADDRESS_OFFSET): \", hex(mmio.read(ADDRESS_OFFSET)))\n",
    "print(\"mmio.read(ADDRESS_OFFSET+0x04): \", hex(mmio.read(ADDRESS_OFFSET+0x04)))\n",
    "print(\"mmio.read(ADDRESS_OFFSET+0x08): \", hex(mmio.read(ADDRESS_OFFSET+0x08)))\n",
    "print(\"mmio.read(ADDRESS_OFFSET+0x0C): \", hex(mmio.read(ADDRESS_OFFSET+0x0C)))\n",
    "print(\"mmio.read(ADDRESS_OFFSET+0x10): \", hex(mmio.read(ADDRESS_OFFSET+0x10)))\n",
    "print(\"mmio.read(ADDRESS_OFFSET+0x14): \", hex(mmio.read(ADDRESS_OFFSET+0x14)))\n",
    "print(\"mmio.read(ADDRESS_OFFSET+0x18): \", hex(mmio.read(ADDRESS_OFFSET+0x18)))\n",
    "print(\"mmio.read(ADDRESS_OFFSET+0x1C): \", hex(mmio.read(ADDRESS_OFFSET+0x1C)))"
   ]
  },
  {
   "cell_type": "code",
   "execution_count": 27,
   "metadata": {},
   "outputs": [],
   "source": [
    "mmio.write(ADDRESS_OFFSET, 0x11111112)\n",
    "mmio.write(ADDRESS_OFFSET+0x04, 0x22222223)\n",
    "mmio.write(ADDRESS_OFFSET+0x08, 0x33333334)\n",
    "mmio.write(ADDRESS_OFFSET+0x0C, 0x44444445)\n",
    "mmio.write(ADDRESS_OFFSET+0x10, 0x55555556)\n",
    "mmio.write(ADDRESS_OFFSET+0x14, 0x66666667)\n",
    "mmio.write(ADDRESS_OFFSET+0x18, 0x77777778)\n",
    "mmio.write(ADDRESS_OFFSET+0x1C, 0x88888889)"
   ]
  },
  {
   "cell_type": "code",
   "execution_count": 28,
   "metadata": {},
   "outputs": [],
   "source": [
    "# ====================================================================================== #\n",
    "# ====================================================================================== #\n",
    "# PL_Caravel Side Configuration\n",
    "# ====================================================================================== #\n",
    "# ====================================================================================== #"
   ]
  },
  {
   "cell_type": "code",
   "execution_count": 29,
   "metadata": {},
   "outputs": [
    {
     "name": "stdout",
     "output_type": "stream",
     "text": [
      "mmio.read(ADDRESS_OFFSET):  0x1\n"
     ]
    }
   ],
   "source": [
    "# Caravel-IS Config\n",
    "ADDRESS_OFFSET = SOC_IS # 0x3000\n",
    "print(\"mmio.read(ADDRESS_OFFSET): \", hex(mmio.read(ADDRESS_OFFSET)))"
   ]
  },
  {
   "cell_type": "code",
   "execution_count": 30,
   "metadata": {},
   "outputs": [],
   "source": [
    "# Caravel-IS Config\n",
    "ADDRESS_OFFSET = 0x3000\n",
    "mmio.write(ADDRESS_OFFSET, 0x00000003)"
   ]
  },
  {
   "cell_type": "code",
   "execution_count": 31,
   "metadata": {},
   "outputs": [
    {
     "name": "stdout",
     "output_type": "stream",
     "text": [
      "mmio.read(ADDRESS_OFFSET):  0x6\n"
     ]
    }
   ],
   "source": [
    "# Caravel-AS Config\n",
    "ADDRESS_OFFSET = SOC_AS # 0x4000\n",
    "print(\"mmio.read(ADDRESS_OFFSET): \", hex(mmio.read(ADDRESS_OFFSET)))"
   ]
  },
  {
   "cell_type": "code",
   "execution_count": 32,
   "metadata": {},
   "outputs": [],
   "source": [
    "# Caravel-AS Config\n",
    "ADDRESS_OFFSET = SOC_AS # 0x4000\n",
    "mmio.write(ADDRESS_OFFSET, 0x00000006)"
   ]
  },
  {
   "cell_type": "code",
   "execution_count": 33,
   "metadata": {},
   "outputs": [
    {
     "name": "stdout",
     "output_type": "stream",
     "text": [
      "mmio.read(ADDRESS_OFFSET):  0x1f\n"
     ]
    }
   ],
   "source": [
    "# Caravel-CC Config\n",
    "ADDRESS_OFFSET = SOC_CC # 0x5000\n",
    "print(\"mmio.read(ADDRESS_OFFSET): \", hex(mmio.read(ADDRESS_OFFSET)))"
   ]
  },
  {
   "cell_type": "code",
   "execution_count": 34,
   "metadata": {},
   "outputs": [],
   "source": [
    "# Caravel-CC Config\n",
    "ADDRESS_OFFSET = SOC_CC # 0x5000\n",
    "mmio.write(ADDRESS_OFFSET, 0x00000000)"
   ]
  },
  {
   "cell_type": "code",
   "execution_count": 35,
   "metadata": {},
   "outputs": [
    {
     "name": "stdout",
     "output_type": "stream",
     "text": [
      "mmio.read(ADDRESS_OFFSET):  0x0\n"
     ]
    }
   ],
   "source": [
    "# Caravel-LA Config\n",
    "ADDRESS_OFFSET = SOC_LA # 0x1000\n",
    "print(\"mmio.read(ADDRESS_OFFSET): \", hex(mmio.read(ADDRESS_OFFSET)))"
   ]
  },
  {
   "cell_type": "code",
   "execution_count": 36,
   "metadata": {},
   "outputs": [
    {
     "name": "stdout",
     "output_type": "stream",
     "text": [
      "dma_mmio.read(0x20):  0x0\n",
      "dma_mmio.read(0x30):  0x0\n",
      "dma_mmio.read(0x78):  0x0\n",
      "dma_mmio.read(0x88):  0x0\n",
      "dma_mmio.read(0x28):  0x40\n",
      "dma_mmio.read(0x38):  0x0\n",
      "dma_mmio.read(0x3C):  0x0\n",
      "dma_mmio.read(0x54):  0x0\n",
      "dma_mmio.read(0x5C):  0x0\n",
      "dma_mmio.read(0x60):  0x0\n",
      "dma_mmio.read(0x80):  0x40\n"
     ]
    }
   ],
   "source": [
    "# Configure UserDMA\n",
    "USERDMA_BASE_ADDRESS = 0x40020000\n",
    "USERDMA_RANGE = 0x10000\n",
    "dma_mmio = MMIO(USERDMA_BASE_ADDRESS, USERDMA_RANGE)\n",
    "dma_mmio.write(0x20, 0x00000000)\n",
    "dma_mmio.write(0x30, 0x00000000)\n",
    "dma_mmio.write(0x78, 0x00000000)\n",
    "dma_mmio.write(0x88, 0x00000000)\n",
    "dma_mmio.write(0x28, 0x00000040)\n",
    "dma_mmio.write(0x38, 0x00000000)\n",
    "dma_mmio.write(0x3C, 0x00000000)\n",
    "dma_mmio.write(0x54, 0x00000000)\n",
    "dma_mmio.write(0x5C, 0x00000000)\n",
    "dma_mmio.write(0x60, 0x00000000)\n",
    "dma_mmio.write(0x80, 0x00000040)\n",
    "print(\"dma_mmio.read(0x20): \", hex(dma_mmio.read(0x20)))\n",
    "print(\"dma_mmio.read(0x30): \", hex(dma_mmio.read(0x30)))\n",
    "print(\"dma_mmio.read(0x78): \", hex(dma_mmio.read(0x78)))\n",
    "print(\"dma_mmio.read(0x88): \", hex(dma_mmio.read(0x88)))\n",
    "print(\"dma_mmio.read(0x28): \", hex(dma_mmio.read(0x28)))\n",
    "print(\"dma_mmio.read(0x38): \", hex(dma_mmio.read(0x38)))\n",
    "print(\"dma_mmio.read(0x3C): \", hex(dma_mmio.read(0x3C)))\n",
    "print(\"dma_mmio.read(0x54): \", hex(dma_mmio.read(0x54)))\n",
    "print(\"dma_mmio.read(0x5C): \", hex(dma_mmio.read(0x5C)))\n",
    "print(\"dma_mmio.read(0x60): \", hex(dma_mmio.read(0x60)))\n",
    "print(\"dma_mmio.read(0x80): \", hex(dma_mmio.read(0x80)))"
   ]
  },
  {
   "cell_type": "code",
   "execution_count": 37,
   "metadata": {},
   "outputs": [
    {
     "name": "stdout",
     "output_type": "stream",
     "text": [
      "mmio.read(ADDRESS_OFFSET):  0x0\n",
      "mmio.read(ADDRESS_OFFSET + 0x04):  0xf0000004\n",
      "mmio.read(ADDRESS_OFFSET + 0x08):  0xf0000008\n",
      "mmio.read(ADDRESS_OFFSET + 0x0C):  0xf000000c\n",
      "mmio.read(ADDRESS_OFFSET + 0x10):  0xf0000010\n",
      "mmio.read(ADDRESS_OFFSET + 0x14):  0xf0000014\n",
      "mmio.read(ADDRESS_OFFSET + 0x18):  0xf0000018\n",
      "mmio.read(ADDRESS_OFFSET + 0x1C):  0xf000001c\n",
      "mmio.read(ADDRESS_OFFSET + 0x20):  0xf0000020\n",
      "mmio.read(ADDRESS_OFFSET + 0x24):  0x24\n",
      "mmio.read(ADDRESS_OFFSET + 0x28):  0x28\n",
      "mmio.read(ADDRESS_OFFSET):  0x0\n",
      "mmio.read(ADDRESS_OFFSET):  0x0\n"
     ]
    }
   ],
   "source": [
    "# Caravel-UP Config\n",
    "# Configure FIR IP\n",
    "ADDRESS_OFFSET = SOC_UP # 0x0000\n",
    "mmio.write(ADDRESS_OFFSET, 0x00000001) # axil_cycles_gen(WriteCyc, SOC_UP, offset, data, 1);\n",
    "print(\"mmio.read(ADDRESS_OFFSET): \", hex(mmio.read(ADDRESS_OFFSET))) # axil_cycles_gen(ReadCyc, SOC_UP, offset, data, 1);\n",
    "\n",
    "mmio.write(ADDRESS_OFFSET + 0x04, 0x0000) # axil_cycles_gen(WriteCyc, SOC_UP, offset, data, 1);\n",
    "print(\"mmio.read(ADDRESS_OFFSET + 0x04): \", hex(mmio.read(ADDRESS_OFFSET+ 0x04))) # axil_cycles_gen(ReadCyc, SOC_UP, offset, data, 1);\n",
    "mmio.write(ADDRESS_OFFSET + 0x08, 0x0000) # axil_cycles_gen(WriteCyc, SOC_UP, offset, data, 1);\n",
    "print(\"mmio.read(ADDRESS_OFFSET + 0x08): \", hex(mmio.read(ADDRESS_OFFSET+ 0x08))) # axil_cycles_gen(ReadCyc, SOC_UP, offset, data, 1);\n",
    "mmio.write(ADDRESS_OFFSET + 0x0C, 0x0000) # axil_cycles_gen(WriteCyc, SOC_UP, offset, data, 1);\n",
    "print(\"mmio.read(ADDRESS_OFFSET + 0x0C): \", hex(mmio.read(ADDRESS_OFFSET+ 0x0C))) # axil_cycles_gen(ReadCyc, SOC_UP, offset, data, 1);\n",
    "mmio.write(ADDRESS_OFFSET + 0x10, 0x0000) # axil_cycles_gen(WriteCyc, SOC_UP, offset, data, 1);\n",
    "print(\"mmio.read(ADDRESS_OFFSET + 0x10): \", hex(mmio.read(ADDRESS_OFFSET+ 0x10))) # axil_cycles_gen(ReadCyc, SOC_UP, offset, data, 1);\n",
    "\n",
    "mmio.write(ADDRESS_OFFSET + 0x14, 0x0000) # axil_cycles_gen(WriteCyc, SOC_UP, offset, data, 1);\n",
    "print(\"mmio.read(ADDRESS_OFFSET + 0x14): \", hex(mmio.read(ADDRESS_OFFSET+ 0x14))) # axil_cycles_gen(ReadCyc, SOC_UP, offset, data, 1);\n",
    "mmio.write(ADDRESS_OFFSET + 0x18, 0x0001) # axil_cycles_gen(WriteCyc, SOC_UP, offset, data, 1);\n",
    "print(\"mmio.read(ADDRESS_OFFSET + 0x18): \", hex(mmio.read(ADDRESS_OFFSET+ 0x18))) # axil_cycles_gen(ReadCyc, SOC_UP, offset, data, 1);\n",
    "mmio.write(ADDRESS_OFFSET + 0x1C, 0x0000) # axil_cycles_gen(WriteCyc, SOC_UP, offset, data, 1);\n",
    "print(\"mmio.read(ADDRESS_OFFSET + 0x1C): \", hex(mmio.read(ADDRESS_OFFSET+ 0x1C))) # axil_cycles_gen(ReadCyc, SOC_UP, offset, data, 1);\n",
    "mmio.write(ADDRESS_OFFSET + 0x20, 0x0002) # axil_cycles_gen(WriteCyc, SOC_UP, offset, data, 1);\n",
    "print(\"mmio.read(ADDRESS_OFFSET + 0x20): \", hex(mmio.read(ADDRESS_OFFSET+ 0x20))) # axil_cycles_gen(ReadCyc, SOC_UP, offset, data, 1);\n",
    "\n",
    "mmio.write(ADDRESS_OFFSET + 0x24, 0x0002) # axil_cycles_gen(WriteCyc, SOC_UP, offset, data, 1);\n",
    "print(\"mmio.read(ADDRESS_OFFSET + 0x24): \", hex(mmio.read(ADDRESS_OFFSET+ 0x24))) # axil_cycles_gen(ReadCyc, SOC_UP, offset, data, 1);\n",
    "mmio.write(ADDRESS_OFFSET + 0x28, 0x001E) # axil_cycles_gen(WriteCyc, SOC_UP, offset, data, 1);\n",
    "print(\"mmio.read(ADDRESS_OFFSET + 0x28): \", hex(mmio.read(ADDRESS_OFFSET+ 0x28))) # axil_cycles_gen(ReadCyc, SOC_UP, offset, data, 1);\n",
    "\n",
    "mmio.write(ADDRESS_OFFSET, 0x0000)\n",
    "print(\"mmio.read(ADDRESS_OFFSET): \", hex(mmio.read(ADDRESS_OFFSET)))\n",
    "\n",
    "ADDRESS_OFFSET = SOC_CC # 0x5000\n",
    "mmio.write(ADDRESS_OFFSET, 0x0000)\n",
    "print(\"mmio.read(ADDRESS_OFFSET): \", hex(mmio.read(ADDRESS_OFFSET)))"
   ]
  },
  {
   "cell_type": "code",
   "execution_count": 38,
   "metadata": {},
   "outputs": [],
   "source": [
    "# ====================================================================================== #\n",
    "# ====================================================================================== #\n",
    "# LADMA Verification\n",
    "# ====================================================================================== #\n",
    "# ====================================================================================== #"
   ]
  },
  {
   "cell_type": "code",
   "execution_count": 39,
   "metadata": {},
   "outputs": [
    {
     "name": "stdout",
     "output_type": "stream",
     "text": [
      "ladma_buf.device_address:  0x16849000\n"
     ]
    }
   ],
   "source": [
    "# Allocation memory\n",
    "ladma_buf = allocate(shape=(1024,), dtype=np.uint32)\n",
    "print(\"ladma_buf.device_address: \", hex(ladma_buf.device_address))\n",
    "\n",
    "IP_BASE_ADDRESS = ladma_buf.device_address\n",
    "ADDRESS_RANGE = 0x1000\n",
    "buf_mmio = MMIO(IP_BASE_ADDRESS, ADDRESS_RANGE)\n",
    "# 0x00 : Control signals\n",
    "#        bit 0 - ap_start (R/W/COH)\n",
    "#        bit 1 - ap_done (R/COR)\n",
    "#        bit 2 - ap_idle (R)\n",
    "#        bit 3 - ap_ready (R/COR)\n",
    "# 0x10 : Buffer transfer done status register\n",
    "#        bit 0 - buffer transfer done status (R)\n",
    "# 0x20 : Buffer transfer done status clear register\n",
    "#        bit 0 - clear buffer transfer done status (R/W)\n",
    "# 0x28 : Buffer Length\n",
    "#        bit 31~0 - set buffer length (must 1024)\n",
    "# 0x30 : Triggered condition \n",
    "#        bit 23~0 - set triggered condidtion (R/W)\n",
    "#        others  - reserved\n",
    "# 0x34 : Buffer Lower base address \n",
    "#        bit 31~0 - (R/W)\n",
    "# 0x38 : Buffer High base address\n",
    "#        bit 31~0 - (R/W)\n",
    "# ladma Configuration\n",
    "ADDRESS_OFFSET = PL_DMA # 0x8000\n",
    "# exit clear operation\n",
    "mmio.write(ADDRESS_OFFSET + 0x20, 0x00000000)\n",
    "# set buffer length\n",
    "mmio.write(ADDRESS_OFFSET + 0x28, 0x00000400)\n",
    "# set trigger condition\n",
    "mmio.write(ADDRESS_OFFSET + 0x30, 0x00000000)\n",
    "# set buffer low\n",
    "mmio.write(ADDRESS_OFFSET + 0x38, ladma_buf.device_address)\n",
    "# set buffer high\n",
    "mmio.write(ADDRESS_OFFSET + 0x3C, 0x00000000)"
   ]
  },
  {
   "cell_type": "code",
   "execution_count": 40,
   "metadata": {},
   "outputs": [
    {
     "name": "stdout",
     "output_type": "stream",
     "text": [
      "mmio.read(ADDRESS_OFFSET+0x00):  0x4\n",
      "mmio.read(ADDRESS_OFFSET+0x10):  0x0\n",
      "mmio.read(ADDRESS_OFFSET+0x20):  0x0\n",
      "mmio.read(ADDRESS_OFFSET+0x28):  0x400\n",
      "mmio.read(ADDRESS_OFFSET+0x30):  0x0\n",
      "mmio.read(ADDRESS_OFFSET+0x38):  0x16849000\n",
      "mmio.read(ADDRESS_OFFSET+0x3C):  0x0\n"
     ]
    }
   ],
   "source": [
    "ADDRESS_OFFSET = PL_DMA # 0x8000\n",
    "print(\"mmio.read(ADDRESS_OFFSET+0x00): \", hex(mmio.read(ADDRESS_OFFSET+0x00)))\n",
    "print(\"mmio.read(ADDRESS_OFFSET+0x10): \", hex(mmio.read(ADDRESS_OFFSET+0x10)))\n",
    "print(\"mmio.read(ADDRESS_OFFSET+0x20): \", hex(mmio.read(ADDRESS_OFFSET+0x20)))\n",
    "print(\"mmio.read(ADDRESS_OFFSET+0x28): \", hex(mmio.read(ADDRESS_OFFSET+0x28)))\n",
    "print(\"mmio.read(ADDRESS_OFFSET+0x30): \", hex(mmio.read(ADDRESS_OFFSET+0x30)))\n",
    "print(\"mmio.read(ADDRESS_OFFSET+0x38): \", hex(mmio.read(ADDRESS_OFFSET+0x38)))\n",
    "print(\"mmio.read(ADDRESS_OFFSET+0x3C): \", hex(mmio.read(ADDRESS_OFFSET+0x3C)))"
   ]
  },
  {
   "cell_type": "code",
   "execution_count": 41,
   "metadata": {},
   "outputs": [],
   "source": [
    "# ladma Configuration\n",
    "ADDRESS_OFFSET = PL_DMA # 0x8000\n",
    "# set ap_start\n",
    "mmio.write(ADDRESS_OFFSET + 0x00, 0x00000001)"
   ]
  },
  {
   "cell_type": "code",
   "execution_count": 42,
   "metadata": {},
   "outputs": [],
   "source": [
    "# enable la 0xFFFFFF\n",
    "ADDRESS_OFFSET = SOC_LA # 0x1000\n",
    "mmio.write(ADDRESS_OFFSET, 0x00FFFFFF)\n",
    "#print(\"mmio.read(ADDRESS_OFFSET): \", hex(mmio.read(ADDRESS_OFFSET)))\n",
    "# select target UP\n",
    "ADDRESS_OFFSET = SOC_CC # 0x5000\n",
    "mmio.write(ADDRESS_OFFSET, 0x00000003)\n",
    "#print(\"mmio.read(ADDRESS_OFFSET): \", hex(mmio.read(ADDRESS_OFFSET)))"
   ]
  },
  {
   "cell_type": "code",
   "execution_count": 43,
   "metadata": {},
   "outputs": [
    {
     "name": "stdout",
     "output_type": "stream",
     "text": [
      "mmio.read(ADDRESS_OFFSET+0x10):  0x1\n",
      "mmio.read(ADDRESS_OFFSET+0x10):  0x0\n"
     ]
    }
   ],
   "source": [
    "# ladma Configuration\n",
    "ADDRESS_OFFSET = PL_DMA # 0x8000\n",
    "while True:\n",
    "    if mmio.read(ADDRESS_OFFSET+0x10) == 0x01:\n",
    "        break\n",
    "print(\"mmio.read(ADDRESS_OFFSET+0x10): \", hex(mmio.read(ADDRESS_OFFSET+0x10)))\n",
    "\n",
    "# disable la 0x000000\n",
    "ADDRESS_OFFSET = SOC_LA # 0x1000\n",
    "mmio.write(ADDRESS_OFFSET, 0x00000000)\n",
    "# select fake UP\n",
    "ADDRESS_OFFSET = SOC_CC # 0x5000\n",
    "mmio.write(ADDRESS_OFFSET, 0x00000000) \n",
    "\n",
    "ADDRESS_OFFSET = PL_DMA # 0x8000\n",
    "# clear buffer transfer done operation\n",
    "mmio.write(ADDRESS_OFFSET + 0x20, 0x00000001)\n",
    "# set ap_start\n",
    "mmio.write(ADDRESS_OFFSET + 0x00, 0x00000001)\n",
    "while True:\n",
    "    if mmio.read(ADDRESS_OFFSET+0x10) != 0x01:\n",
    "        break\n",
    "print(\"mmio.read(ADDRESS_OFFSET+0x10): \", hex(mmio.read(ADDRESS_OFFSET+0x10)))      "
   ]
  },
  {
   "cell_type": "code",
   "execution_count": 44,
   "metadata": {},
   "outputs": [
    {
     "name": "stdout",
     "output_type": "stream",
     "text": [
      "mmio.read(ADDRESS_OFFSET+0x00):  0xe\n",
      "mmio.read(ADDRESS_OFFSET+0x10):  0x0\n",
      "mmio.read(ADDRESS_OFFSET+0x20):  0x1\n",
      "mmio.read(ADDRESS_OFFSET+0x28):  0x400\n",
      "mmio.read(ADDRESS_OFFSET+0x30):  0x0\n",
      "mmio.read(ADDRESS_OFFSET+0x38):  0x16849000\n",
      "mmio.read(ADDRESS_OFFSET+0x3C):  0x0\n"
     ]
    }
   ],
   "source": [
    "ADDRESS_OFFSET = PL_DMA # 0x8000\n",
    "print(\"mmio.read(ADDRESS_OFFSET+0x00): \", hex(mmio.read(ADDRESS_OFFSET+0x00)))\n",
    "print(\"mmio.read(ADDRESS_OFFSET+0x10): \", hex(mmio.read(ADDRESS_OFFSET+0x10)))\n",
    "print(\"mmio.read(ADDRESS_OFFSET+0x20): \", hex(mmio.read(ADDRESS_OFFSET+0x20)))\n",
    "print(\"mmio.read(ADDRESS_OFFSET+0x28): \", hex(mmio.read(ADDRESS_OFFSET+0x28)))\n",
    "print(\"mmio.read(ADDRESS_OFFSET+0x30): \", hex(mmio.read(ADDRESS_OFFSET+0x30)))\n",
    "print(\"mmio.read(ADDRESS_OFFSET+0x38): \", hex(mmio.read(ADDRESS_OFFSET+0x38)))\n",
    "print(\"mmio.read(ADDRESS_OFFSET+0x3C): \", hex(mmio.read(ADDRESS_OFFSET+0x3C)))"
   ]
  },
  {
   "cell_type": "code",
   "execution_count": 45,
   "metadata": {},
   "outputs": [],
   "source": [
    "#dump la log to file\n",
    "file = open(\"simulate.log\", \"w\")\n",
    "for i in range(0,0xFFF,4):\n",
    "    file.write('{:08x}'.format(buf_mmio.read(i))+\"\\n\")\n",
    "file.close()"
   ]
  },
  {
   "cell_type": "code",
   "execution_count": 46,
   "metadata": {},
   "outputs": [
    {
     "name": "stdout",
     "output_type": "stream",
     "text": [
      "mmio.read(ADDRESS_OFFSET):  0x0\n",
      "mmio.read(ADDRESS_OFFSET):  0x0\n"
     ]
    }
   ],
   "source": [
    "# ladma Configuration\n",
    "ADDRESS_OFFSET = PL_DMA # 0x8000\n",
    "# exit clear operation\n",
    "mmio.write(ADDRESS_OFFSET + 0x20, 0x00000000)\n",
    "# set ap_start again\n",
    "mmio.write(ADDRESS_OFFSET + 0x00, 0x00000001)\n",
    "\n",
    "# Confirming SOC_CC & SOC_LA Reading is still work\n",
    "ADDRESS_OFFSET = SOC_CC # 0x5000\n",
    "print(\"mmio.read(ADDRESS_OFFSET): \", hex(mmio.read(ADDRESS_OFFSET)))\n",
    "print(\"mmio.read(ADDRESS_OFFSET): \", hex(mmio.read(ADDRESS_OFFSET)))"
   ]
  },
  {
   "cell_type": "code",
   "execution_count": 47,
   "metadata": {},
   "outputs": [],
   "source": [
    "# Translate simulate.log to output_new.vcd, which can be open by gtakwave\n",
    "%run read_la_data.py"
   ]
  },
  {
   "cell_type": "code",
   "execution_count": null,
   "metadata": {},
   "outputs": [],
   "source": []
  }
 ],
 "metadata": {
  "kernelspec": {
   "display_name": "Python 3",
   "language": "python",
   "name": "python3"
  },
  "language_info": {
   "codemirror_mode": {
    "name": "ipython",
    "version": 3
   },
   "file_extension": ".py",
   "mimetype": "text/x-python",
   "name": "python",
   "nbconvert_exporter": "python",
   "pygments_lexer": "ipython3",
   "version": "3.8.2"
  }
 },
 "nbformat": 4,
 "nbformat_minor": 2
}
